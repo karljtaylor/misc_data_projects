{
 "cells": [
  {
   "cell_type": "markdown",
   "metadata": {},
   "source": [
    "Hi, I'm Sergey Russkikh. I will here to help you to improve the project. I will leave comments after cells I want to be discussed\n",
    "\n",
    "You can find my comments in <font color='green'>green</font>, <font color='amber'>yellow</font> or <font color='red'>red</font> boxes like this:\n",
    "\n",
    "<div class=\"alert alert-block alert-success\">\n",
    "<b>Success:</b> if everything is done succesfully\n",
    "</div>\n",
    "\n",
    "<div class=\"alert alert-block alert-warning\">\n",
    "<b>Remarks: </b> if I can give some recommendations\n",
    "</div>\n",
    "\n",
    "<div class=\"alert alert-block alert-danger\">\n",
    "<b>Needs fixing:</b> if the block requires some corrections. Work can't be accepted with red comments.\n",
    "</div>\n",
    "Please, do not delete my comments"
   ]
  },
  {
   "cell_type": "markdown",
   "metadata": {},
   "source": [
    "## Analyzing borrowers’ risk of defaulting\n",
    "\n",
    "Your project is to prepare a report for a bank’s loan division. You’ll need to find out if a customer’s marital status and number of children has an impact on whether they will default on a loan. The bank already has some data on customers’ credit worthiness.\n",
    "\n",
    "Your report will be considered when building a **credit scoring** of a potential customer. A ** credit scoring ** is used to evaluate the ability of a potential borrower to repay their loan."
   ]
  },
  {
   "cell_type": "markdown",
   "metadata": {},
   "source": [
    "<div class=\"alert alert-block alert-success\">\n",
    "<b>Success:</b> \n",
    "    \n",
    "You've done a really good job!\n",
    "Keep up the good work, and good luck on the next sprint!\n",
    "</div>\n",
    "\n"
   ]
  },
  {
   "cell_type": "markdown",
   "metadata": {},
   "source": [
    "### Step 1. Open the data file and have a look at the general information. "
   ]
  },
  {
   "cell_type": "code",
   "execution_count": 1,
   "metadata": {},
   "outputs": [
    {
     "name": "stdout",
     "output_type": "stream",
     "text": [
      "<class 'pandas.core.frame.DataFrame'>\n",
      "RangeIndex: 21525 entries, 0 to 21524\n",
      "Data columns (total 12 columns):\n",
      "children            21525 non-null int64\n",
      "days_employed       19351 non-null float64\n",
      "dob_years           21525 non-null int64\n",
      "education           21525 non-null object\n",
      "education_id        21525 non-null int64\n",
      "family_status       21525 non-null object\n",
      "family_status_id    21525 non-null int64\n",
      "gender              21525 non-null object\n",
      "income_type         21525 non-null object\n",
      "debt                21525 non-null int64\n",
      "total_income        19351 non-null float64\n",
      "purpose             21525 non-null object\n",
      "dtypes: float64(2), int64(5), object(5)\n",
      "memory usage: 2.0+ MB\n",
      "None\n"
     ]
    }
   ],
   "source": [
    "import pandas as pd \n",
    "import numpy as np\n",
    "credit_scoring_eng=pd.read_csv('/datasets/credit_scoring_eng.csv')\n",
    "#print(credit_scoring_eng.head(10)\n",
    "print(credit_scoring_eng.info())"
   ]
  },
  {
   "cell_type": "markdown",
   "metadata": {},
   "source": [
    "### Conclusion"
   ]
  },
  {
   "cell_type": "markdown",
   "metadata": {},
   "source": [
    "### Information About The Dataset\n",
    "\n",
    "The dataset includes 12 columns: \n",
    "\n",
    "* children\n",
    "* days_employed\n",
    "* dob_years\n",
    "* education\n",
    "* education_id\n",
    "* family_status\n",
    "* family_status_id \n",
    "* gender\n",
    "* income_type\n",
    "* debt\n",
    "* total_income\n",
    "* purpose\n",
    "\n",
    "Each row of the dataset contains 21,525 entries, with the exception of days_employed and total_income which contain 19,351 entries. 'days_employed' and 'total_income' are floating point numbers, and will likely need to be converted to integers for further analysis. This is also a likely source of error that should be further investigated. \n",
    "\n",
    "# Comments\n",
    "\n",
    "After loading the data, a few inconsitencies stand out. It looks like we are potentially missing some data on days_employed and total_income for some of the borrowers in the dataset. Alternatively, we may have an issue with duplicated data in the other columns. In order to answer the questions we initially set out to answer, we'll first need to clean up our data!  "
   ]
  },
  {
   "cell_type": "markdown",
   "metadata": {},
   "source": [
    "<div class=\"alert alert-block alert-success\">\n",
    "Data has been read, move on\n",
    "\n",
    "</div>"
   ]
  },
  {
   "cell_type": "markdown",
   "metadata": {},
   "source": [
    "### Step 2. Data preprocessing"
   ]
  },
  {
   "cell_type": "markdown",
   "metadata": {},
   "source": [
    "### Processing missing values"
   ]
  },
  {
   "cell_type": "code",
   "execution_count": 2,
   "metadata": {},
   "outputs": [
    {
     "name": "stdout",
     "output_type": "stream",
     "text": [
      "<class 'pandas.core.frame.DataFrame'>\n",
      "RangeIndex: 21525 entries, 0 to 21524\n",
      "Data columns (total 12 columns):\n",
      "children            21525 non-null int64\n",
      "days_employed       21525 non-null float64\n",
      "dob_years           21525 non-null int64\n",
      "education           21525 non-null object\n",
      "education_id        21525 non-null int64\n",
      "family_status       21525 non-null object\n",
      "family_status_id    21525 non-null int64\n",
      "gender              21525 non-null object\n",
      "income_type         21525 non-null object\n",
      "debt                21525 non-null int64\n",
      "total_income        21525 non-null float64\n",
      "purpose             21525 non-null object\n",
      "dtypes: float64(2), int64(5), object(5)\n",
      "memory usage: 2.0+ MB\n",
      "None\n",
      "   children  days_employed  dob_years            education  education_id  \\\n",
      "0         1   -8437.673028         42    bachelor's degree             0   \n",
      "1         1   -4024.803754         36  secondary education             1   \n",
      "2         0   -5623.422610         33  Secondary Education             1   \n",
      "3         3   -4124.747207         32  secondary education             1   \n",
      "4         0  340266.072047         53  secondary education             1   \n",
      "5         0    -926.185831         27    bachelor's degree             0   \n",
      "6         0   -2879.202052         43    bachelor's degree             0   \n",
      "7         0    -152.779569         50  SECONDARY EDUCATION             1   \n",
      "8         2   -6929.865299         35    BACHELOR'S DEGREE             0   \n",
      "9         0   -2188.756445         41  secondary education             1   \n",
      "\n",
      "       family_status  family_status_id gender income_type  debt  total_income  \\\n",
      "0            married                 0      F    employee     0     40620.102   \n",
      "1            married                 0      F    employee     0     17932.802   \n",
      "2            married                 0      M    employee     0     23341.752   \n",
      "3            married                 0      M    employee     0     42820.568   \n",
      "4  civil partnership                 1      F     retiree     0     25378.572   \n",
      "5  civil partnership                 1      M    business     0     40922.170   \n",
      "6            married                 0      F    business     0     38484.156   \n",
      "7            married                 0      M    employee     0     21731.829   \n",
      "8  civil partnership                 1      F    employee     0     15337.093   \n",
      "9            married                 0      M    employee     0     23108.150   \n",
      "\n",
      "                               purpose  \n",
      "0                purchase of the house  \n",
      "1                         car purchase  \n",
      "2                purchase of the house  \n",
      "3              supplementary education  \n",
      "4                    to have a wedding  \n",
      "5                purchase of the house  \n",
      "6                 housing transactions  \n",
      "7                            education  \n",
      "8                     having a wedding  \n",
      "9  purchase of the house for my family  \n"
     ]
    }
   ],
   "source": [
    "#I'd probably want to delete these early comments, but I started off by exploring the comments and then trying to get value_count on each column.\n",
    "#value_counts helps us to identify unique values and their counts. it's a good way of quickly checking the total of a column.\n",
    "#since we don't know which columns have missing values, we should check each one. \n",
    "#print(credit_scoring_eng.head(10))\n",
    "#print('number of children:', credit_scoring_eng['children'].value_counts())\n",
    "#print('education:', credit_scoring_eng['education'].value_counts())\n",
    "#print('date of birth:', credit_scoring_eng['dob_years'].value_counts())\n",
    "#checking each one by hand is slow and boring. \n",
    "#let's speed this up with a loop.\n",
    "\n",
    "#list_columns=['children', 'days_employed', 'dob_years','education','education_id','family_status',\n",
    "             # 'family_status_id','gender','income_type','debt','total_income','purpose']\n",
    "#for cheese in list_columns:\n",
    "    #f\"number of {cheese} : {credit_scoring_eng[cheese].value_counts()}\"\n",
    "    #I think there's a bug in the platform code runner so the fstring renders in a super unreadable format (http://share.karljtaylor.com/A0KnLd)\n",
    "    \n",
    "    #print(\"number of \" + cheese + \" : \", credit_scoring_eng[cheese].value_counts())\n",
    "    \n",
    "#alternatively, we can check the NaN values this way. \n",
    "#temp=credit_scoring_eng\n",
    "#test=credit_scoring_eng.dropna()\n",
    "#def dataframe_difference(df1, df2, which=None):\n",
    "    #\"\"\"Find rows which are different between two DataFrames.\"\"\"\n",
    "    #comparison_df = df1.merge(df2,\n",
    "     #                         indicator=True,\n",
    "     #                         how='outer')\n",
    "    #if which is None:\n",
    "     #   diff_df = comparison_df[comparison_df['_merge'] != 'both']\n",
    "    #else:\n",
    "     #   diff_df = comparison_df[comparison_df['_merge'] == which]\n",
    "    #return diff_df\n",
    "\n",
    "#new_dance=dataframe_difference(temp, test, which=None)\n",
    "#print(new_dance)\n",
    "\n",
    "# it looks like two columns have missing information, days_employed & total_income. \n",
    "# in the case of days_employed, we have a number of negative days. is it possible we're tracking total time unemployed in this column? \n",
    "# since our analysis revolves around the impact of a borrower and their risk of default, let's look apply the median() method to the missing values and continue our analysis.\n",
    "\n",
    "savg_income=credit_scoring_eng['total_income'].median()\n",
    "credit_scoring_eng['total_income'] = credit_scoring_eng['total_income'].fillna(value=savg_income)\n",
    "avg_days_employed=credit_scoring_eng['days_employed'].mean()\n",
    "credit_scoring_eng['days_employed']=credit_scoring_eng['days_employed'].fillna(value=avg_days_employed)\n",
    "print(credit_scoring_eng.info())\n",
    "print(credit_scoring_eng.head(10))\n"
   ]
  },
  {
   "cell_type": "markdown",
   "metadata": {},
   "source": [
    "<div class=\"alert alert-block alert-warning\">\n",
    "<b>Remarks: </b> \n",
    "</div>\n",
    "You can do that shorter (example):\n",
    "\n",
    "df.loc[df.days_employed.isna(),'days_employed'] = df.days_employed.mean()"
   ]
  },
  {
   "cell_type": "markdown",
   "metadata": {},
   "source": [
    "### Updated Two Missing Columns"
   ]
  },
  {
   "cell_type": "markdown",
   "metadata": {},
   "source": [
    "We identified two columns, 'days_employed' and 'total_income' which were missing several rows of information. There may be other errors in these columns, as 'days_employed' currently reports a negative number of days in several rows. We calculated the median income, and average number of days employed. By using the .fillna() technique, we were able to replace the missing values with the average. In a subsequent analysis, we can make this more precise by calculating an average for a specific category, but we should really try and find out why the dates are negative, first! "
   ]
  },
  {
   "cell_type": "markdown",
   "metadata": {},
   "source": [
    "### Data type replacement\n",
    "During our previous work, we noticed that two columns in our dataset: days_employed, total_income aren't actually in the integer data type. This will limit our ability to perform analysis on these columns, and might make it difficult to answer the questions we've set out to answer. Our data is already in a numeric format, so let's use .astype() to change these data types! "
   ]
  },
  {
   "cell_type": "code",
   "execution_count": 3,
   "metadata": {},
   "outputs": [
    {
     "name": "stdout",
     "output_type": "stream",
     "text": [
      "<class 'pandas.core.frame.DataFrame'>\n",
      "RangeIndex: 21525 entries, 0 to 21524\n",
      "Data columns (total 12 columns):\n",
      "children            21525 non-null int64\n",
      "days_employed       21525 non-null float64\n",
      "dob_years           21525 non-null int64\n",
      "education           21525 non-null object\n",
      "education_id        21525 non-null int64\n",
      "family_status       21525 non-null object\n",
      "family_status_id    21525 non-null int64\n",
      "gender              21525 non-null object\n",
      "income_type         21525 non-null object\n",
      "debt                21525 non-null int64\n",
      "total_income        21525 non-null float64\n",
      "purpose             21525 non-null object\n",
      "dtypes: float64(2), int64(5), object(5)\n",
      "memory usage: 2.0+ MB\n",
      "None\n",
      "<class 'pandas.core.frame.DataFrame'>\n",
      "RangeIndex: 21525 entries, 0 to 21524\n",
      "Data columns (total 12 columns):\n",
      "children            21525 non-null int64\n",
      "days_employed       21525 non-null int64\n",
      "dob_years           21525 non-null int64\n",
      "education           21525 non-null object\n",
      "education_id        21525 non-null int64\n",
      "family_status       21525 non-null object\n",
      "family_status_id    21525 non-null int64\n",
      "gender              21525 non-null object\n",
      "income_type         21525 non-null object\n",
      "debt                21525 non-null int64\n",
      "total_income        21525 non-null int64\n",
      "purpose             21525 non-null object\n",
      "dtypes: int64(7), object(5)\n",
      "memory usage: 2.0+ MB\n",
      "None\n"
     ]
    }
   ],
   "source": [
    "print(credit_scoring_eng.info())\n",
    "days_employed_float=credit_scoring_eng['days_employed']\n",
    "total_income_float=credit_scoring_eng['total_income']\n",
    "credit_scoring_eng['days_employed']=credit_scoring_eng['days_employed'].astype('int')\n",
    "credit_scoring_eng['total_income']=credit_scoring_eng['total_income'].astype('int')\n",
    "credit_scoring_eng['purpose']=credit_scoring_eng['purpose'].astype('str')\n",
    "print(credit_scoring_eng.info())"
   ]
  },
  {
   "cell_type": "markdown",
   "metadata": {},
   "source": [
    "### Conclusion"
   ]
  },
  {
   "cell_type": "markdown",
   "metadata": {},
   "source": [
    "Using .astype() we were able to update those numbers! Let's continue by checking for duplicates! "
   ]
  },
  {
   "cell_type": "markdown",
   "metadata": {},
   "source": [
    "<div class=\"alert alert-block alert-success\">\n",
    "<b>Success:</b> \n",
    "    all right\n",
    "</div>"
   ]
  },
  {
   "cell_type": "markdown",
   "metadata": {},
   "source": [
    "### Processing duplicates\n",
    "\n",
    "Now that we've filled in the missing values, and made sure our data is the right type, let's start by looking for duplicates. We can do that by calling value_counts. We have a few columns, (like children, days_employed, dob_years, education_id, family_status_id, debt, total_income) where it's ok for more than one row to have the same number, so we can exclude those from our search. "
   ]
  },
  {
   "cell_type": "code",
   "execution_count": 4,
   "metadata": {},
   "outputs": [
    {
     "name": "stdout",
     "output_type": "stream",
     "text": [
      "number of education :  secondary education    13750\n",
      "bachelor's degree       4718\n",
      "SECONDARY EDUCATION      772\n",
      "Secondary Education      711\n",
      "some college             668\n",
      "BACHELOR'S DEGREE        274\n",
      "Bachelor's Degree        268\n",
      "primary education        250\n",
      "Some College              47\n",
      "SOME COLLEGE              29\n",
      "PRIMARY EDUCATION         17\n",
      "Primary Education         15\n",
      "graduate degree            4\n",
      "GRADUATE DEGREE            1\n",
      "Graduate Degree            1\n",
      "Name: education, dtype: int64\n",
      "number of family_status :  married              12380\n",
      "civil partnership     4177\n",
      "unmarried             2813\n",
      "divorced              1195\n",
      "widow / widower        960\n",
      "Name: family_status, dtype: int64\n",
      "number of gender :  F      14236\n",
      "M       7288\n",
      "XNA        1\n",
      "Name: gender, dtype: int64\n",
      "number of income_type :  employee                       11119\n",
      "business                        5085\n",
      "retiree                         3856\n",
      "civil servant                   1459\n",
      "unemployed                         2\n",
      "entrepreneur                       2\n",
      "paternity / maternity leave        1\n",
      "student                            1\n",
      "Name: income_type, dtype: int64\n",
      "number of purpose :  wedding ceremony                            797\n",
      "having a wedding                            777\n",
      "to have a wedding                           774\n",
      "real estate transactions                    676\n",
      "buy commercial real estate                  664\n",
      "housing transactions                        653\n",
      "buying property for renting out             653\n",
      "transactions with commercial real estate    651\n",
      "purchase of the house                       647\n",
      "housing                                     647\n",
      "purchase of the house for my family         641\n",
      "construction of own property                635\n",
      "property                                    634\n",
      "transactions with my real estate            630\n",
      "building a real estate                      626\n",
      "buy real estate                             624\n",
      "building a property                         620\n",
      "purchase of my own house                    620\n",
      "housing renovation                          612\n",
      "buy residential real estate                 607\n",
      "buying my own car                           505\n",
      "going to university                         496\n",
      "car                                         495\n",
      "second-hand car purchase                    489\n",
      "to own a car                                480\n",
      "buying a second-hand car                    479\n",
      "cars                                        478\n",
      "to buy a car                                472\n",
      "supplementary education                     462\n",
      "car purchase                                462\n",
      "purchase of a car                           455\n",
      "university education                        453\n",
      "education                                   447\n",
      "to get a supplementary education            447\n",
      "getting an education                        443\n",
      "profile education                           436\n",
      "getting higher education                    426\n",
      "to become educated                          412\n",
      "Name: purpose, dtype: int64\n"
     ]
    }
   ],
   "source": [
    "from collections import Counter\n",
    "\n",
    "list_columns=['education','family_status',\n",
    "              'gender','income_type','purpose']\n",
    "for cheese in list_columns:\n",
    "    #f\"number of {cheese} : {credit_scoring_eng[cheese].value_counts()}\"\n",
    "    #I think there's a bug in the platform code runner so the fstring renders in a super unreadable format (http://share.karljtaylor.com/A0KnLd)\n",
    "    \n",
    "    print(\"number of \" + cheese + \" : \", credit_scoring_eng[cheese].value_counts())"
   ]
  },
  {
   "cell_type": "markdown",
   "metadata": {},
   "source": [
    "### Yikes, We Have Duplicates! \n",
    "\n",
    "Oh no! It looks like we have a few different types of duplicates in our data. \n",
    "\n",
    "But first, here's the good news! It doesn't look like there are any duplicates in the family_status, gender, or income_type columns! \n",
    "\n",
    "The education column seems to have a wide variety of different capitalizations of the type of education. We'll be able to fix those by converting the strings! \n",
    "\n",
    "The purpose column is a mEeSs! We're going to have to use a stemmer to try and better group these duplicates! "
   ]
  },
  {
   "cell_type": "markdown",
   "metadata": {},
   "source": [
    "## Updating Duplicate Strings"
   ]
  },
  {
   "cell_type": "code",
   "execution_count": 5,
   "metadata": {},
   "outputs": [],
   "source": [
    "#print(credit_scoring_eng.head(10))\n",
    "credit_scoring_eng['education']=credit_scoring_eng['education'].str.lower()\n",
    "#print(credit_scoring_eng['education'].value_counts())"
   ]
  },
  {
   "cell_type": "code",
   "execution_count": 6,
   "metadata": {},
   "outputs": [
    {
     "data": {
      "text/plain": [
       "secondary education    15233\n",
       "bachelor's degree       5260\n",
       "some college             744\n",
       "primary education        282\n",
       "graduate degree            6\n",
       "Name: education, dtype: int64"
      ]
     },
     "execution_count": 6,
     "metadata": {},
     "output_type": "execute_result"
    }
   ],
   "source": [
    "credit_scoring_eng['education'].value_counts()"
   ]
  },
  {
   "cell_type": "markdown",
   "metadata": {},
   "source": [
    "<div class=\"alert alert-block alert-warning\">\n",
    "<b>Remarks: </b> \n",
    "It is better to do this without print()\n",
    "</div>\n",
    "\n",
    "<span style=\"color:blue\">totally fair. I'll comment them out here. I've generally been using print to sanity check outputs along the way. Do you have some recommendations on different approaches here? </span>\n",
    "\n"
   ]
  },
  {
   "cell_type": "markdown",
   "metadata": {},
   "source": [
    "<div class=\"alert alert-block alert-warning\">\n",
    "<b>Remarks: </b> \n",
    "just use different cells\n",
    "</div>"
   ]
  },
  {
   "cell_type": "markdown",
   "metadata": {},
   "source": [
    "### Education Column Is Fixed! \n",
    "\n",
    "Now that's better. We've updated the education column, and now we can wee the difference some education makes! We can probably improve this even more by determining the difference between 'secondary,' 'bachelor's degree,' 'some college,' and 'graduate degree,' as the extra precision here will improve our model! \n",
    "\n",
    "In some datasets, we might want to drop the additional values here, but since each borrower's education type is an important factor in their creditworthiness, we need to keep the data! "
   ]
  },
  {
   "cell_type": "markdown",
   "metadata": {},
   "source": [
    "## Parsing The Purpose \n",
    "\n",
    "It looks like our 'purpose' field was open to applicant input, because we've got a whole bunch of different purposes. Let's take a closer look!"
   ]
  },
  {
   "cell_type": "code",
   "execution_count": 7,
   "metadata": {},
   "outputs": [
    {
     "name": "stdout",
     "output_type": "stream",
     "text": [
      "wedding ceremony                            797\n",
      "having a wedding                            777\n",
      "to have a wedding                           774\n",
      "real estate transactions                    676\n",
      "buy commercial real estate                  664\n",
      "housing transactions                        653\n",
      "buying property for renting out             653\n",
      "transactions with commercial real estate    651\n",
      "purchase of the house                       647\n",
      "housing                                     647\n",
      "purchase of the house for my family         641\n",
      "construction of own property                635\n",
      "property                                    634\n",
      "transactions with my real estate            630\n",
      "building a real estate                      626\n",
      "buy real estate                             624\n",
      "building a property                         620\n",
      "purchase of my own house                    620\n",
      "housing renovation                          612\n",
      "buy residential real estate                 607\n",
      "buying my own car                           505\n",
      "going to university                         496\n",
      "car                                         495\n",
      "second-hand car purchase                    489\n",
      "to own a car                                480\n",
      "buying a second-hand car                    479\n",
      "cars                                        478\n",
      "to buy a car                                472\n",
      "supplementary education                     462\n",
      "car purchase                                462\n",
      "purchase of a car                           455\n",
      "university education                        453\n",
      "education                                   447\n",
      "to get a supplementary education            447\n",
      "getting an education                        443\n",
      "profile education                           436\n",
      "getting higher education                    426\n",
      "to become educated                          412\n",
      "Name: purpose, dtype: int64\n"
     ]
    }
   ],
   "source": [
    "print(credit_scoring_eng['purpose'].value_counts())"
   ]
  },
  {
   "cell_type": "markdown",
   "metadata": {},
   "source": [
    "### Fixing the Duplicates\n",
    "Looking at the list, we can see a number of similar entries, like 'getting an education,' 'education,' 'getting higher education,' etc! Let's apply stemming to help us find the purpose! "
   ]
  },
  {
   "cell_type": "code",
   "execution_count": 8,
   "metadata": {},
   "outputs": [],
   "source": [
    "# nltk.download('averaged_perceptron_tagger')"
   ]
  },
  {
   "cell_type": "code",
   "execution_count": 9,
   "metadata": {},
   "outputs": [
    {
     "name": "stderr",
     "output_type": "stream",
     "text": [
      "[nltk_data] Downloading package averaged_perceptron_tagger to\n",
      "[nltk_data]     /home/jovyan/nltk_data...\n",
      "[nltk_data]   Package averaged_perceptron_tagger is already up-to-\n",
      "[nltk_data]       date!\n"
     ]
    },
    {
     "name": "stdout",
     "output_type": "stream",
     "text": [
      "mortgage           7686\n",
      "car_purchase       4315\n",
      "education          4022\n",
      "finance_wedding    2348\n",
      "other              1907\n",
      "construction       1247\n",
      "Name: purpose_category, dtype: int64\n"
     ]
    }
   ],
   "source": [
    "import nltk as nltk \n",
    "from nltk.stem import WordNetLemmatizer \n",
    "from nltk.corpus import wordnet \n",
    "nltk.download('averaged_perceptron_tagger') \n",
    "#found I needed this on load, you might not, so leaving it commented out.\n",
    "\n",
    "def get_wordnet_pos(word): \n",
    "    ###Map POS tag to first character lemmatize() accepts\n",
    "    tag=nltk.pos_tag([word])[0][1][0]\n",
    "    tag_dict = {\"J\": wordnet.ADJ, \n",
    "                \"N\": wordnet.NOUN,\n",
    "                \"V\": wordnet.VERB,\n",
    "                \"R\": wordnet.ADV,}\n",
    "    return tag_dict.get(tag, wordnet.NOUN)\n",
    "\n",
    "wordnet_lemma = WordNetLemmatizer()\n",
    "\n",
    "#for purpose in credit_scoring_eng['purpose']:\n",
    "    #credit_scoring_eng['purpose_pos']=get_wordnet_pos(purpose)\n",
    "    #print(get_wordnet_pos(purpose))\n",
    "lemma_strings=[]\n",
    "for purpose in credit_scoring_eng['purpose']:\n",
    "    lemmatized=[wordnet_lemma.lemmatize(w, get_wordnet_pos(w)) for w in nltk.word_tokenize(purpose)]\n",
    "    lemma_strings.append(lemmatized)\n",
    "    #print('added: ' + lemmatized)\n",
    "    \n",
    "credit_scoring_eng['purpose_lemmas']=lemma_strings\n",
    "    \n",
    "purpose_categories=[]    \n",
    "def categorize_purpose(a):\n",
    "    #for query in credit_scoring_eng['purpose_lemmas']:\n",
    "        #for dance in query.split(','):\n",
    "            #stemmed_word=english_stemmer.stem(dance)\n",
    "            if 'car' in a:\n",
    "                return \"car_purchase\"\n",
    "\n",
    "            elif \"wedding\" in a:\n",
    "                return \"finance_wedding\"\n",
    "\n",
    "            elif \"construction\" in a or \"build\" in a or \"renovation\" in a:\n",
    "                return \"construction\"\n",
    "\n",
    "            elif \"real\" in a or \"house\" in a or \"housing\" in a:\n",
    "                return \"mortgage\"\n",
    "\n",
    "            elif \"education\" in a or \"university\" in a or \"educate\" in a:\n",
    "                return \"education\"\n",
    "\n",
    "            else: \n",
    "                return \"other\"\n",
    "                \n",
    "\n",
    "credit_purpose_simplified=credit_scoring_eng['purpose_lemmas'].apply(categorize_purpose)\n",
    "credit_scoring_eng['purpose_category']=credit_purpose_simplified\n",
    "print(credit_scoring_eng['purpose_category'].value_counts())      \n"
   ]
  },
  {
   "cell_type": "code",
   "execution_count": 10,
   "metadata": {},
   "outputs": [],
   "source": [
    "# credit_scoring_eng['purpose_lemmas'].value_counts()"
   ]
  },
  {
   "cell_type": "markdown",
   "metadata": {},
   "source": [
    "<div class=\"alert alert-block alert-warning\">\n",
    "<b>Needs fixing:</b>\n",
    "</div>\n",
    "We lost education\n",
    "\n",
    "<span style=\"color:blue\">Good call out. Looks like we lost more than just education, also 'construction' </span>"
   ]
  },
  {
   "cell_type": "markdown",
   "metadata": {},
   "source": [
    "<div class=\"alert alert-block alert-warning\">\n",
    "<b>Remarks:</b>\n",
    "</div>\n",
    "\n",
    "We probably have 4 categories:\n",
    "* Housing\n",
    "* car_purchase       \n",
    "* wedding\n",
    "* education"
   ]
  },
  {
   "cell_type": "markdown",
   "metadata": {},
   "source": [
    "### We Got It! \n",
    "\n",
    "People sure use a lot of words to describe something simple! We've created a new column, purpose_category which will help us speed up our analysis. To populate that column with data, we first iterated over the 'purpose' column and identified the part of speech for each purpose. We then grouped the results into categories, and relied on lemmatization to create a simple set of categories we can use to further our analysis. "
   ]
  },
  {
   "cell_type": "markdown",
   "metadata": {},
   "source": [
    "## We Identified, and Removed Two Kinds of Duplicates"
   ]
  },
  {
   "cell_type": "markdown",
   "metadata": {},
   "source": [
    "We found duplicate data in both the 'education' and 'purpose' categories. \n",
    "\n",
    "The duplicates we found in the 'education' column were most likely the result of inconsistent capitalization throughout the field. This can happen when there's an issue with a form entry or the information is being collected in a nonnstandardized way. By converting the strings in the 'education' column to lower case, we were able to quickly identify the duplicate entries. In subsequent exploration, we might want to learn more about what the different categories of college are, so that we could further simplify our model. \n",
    "\n",
    "We also found duplicates in the 'purpose' column, which reports on the use of proceeds for a loan. Because these responses can vary widely, we first needed to re-organize the data contained in the column. We did this by analyzing the parts of speech in the response, and using a function to categorize what we found. In this way we were able to group together ideas like 'to purchase real estate' and 'to buy a house' as being _mortgage_ borrowing."
   ]
  },
  {
   "cell_type": "markdown",
   "metadata": {},
   "source": [
    "### Categorizing Data\n",
    "Our dataframe, credit_scoring_eng, contains much more data than we're going to need to make our analysis. In order to make our report as clear as possible, we should focus on better categorizing our data so that we can present the information needed to make a decision. In addition, since we'll also need to calculate some basic statistics like a default rate, we have a little more work to do. It wouldn't be very pleasant to try and read our 'total_income' column, we should try and group that data, and deal with any surprises in the data (like the 47 people who have -1 children!) "
   ]
  },
  {
   "cell_type": "code",
   "execution_count": 11,
   "metadata": {},
   "outputs": [
    {
     "name": "stdout",
     "output_type": "stream",
     "text": [
      "The default rate for all loans is: 0.08088269454123112\n"
     ]
    }
   ],
   "source": [
    "\n",
    "def group_children(row):\n",
    "    info1=[row['children']]\n",
    "    for row in info1:\n",
    "        if row <=0:\n",
    "            return '0'\n",
    "        else:\n",
    "            return row\n",
    "        \n",
    "credit_scoring_eng['children_adjusted']=credit_scoring_eng.apply(group_children, axis=1)\n",
    "\n",
    "def organize_income(row):\n",
    "    info2=[row['total_income']]\n",
    "    for row in info2:\n",
    "        if row <=10000:\n",
    "            return \"0-10000\"\n",
    "        if row <=20000:\n",
    "            return \"10000-20000\"\n",
    "        if row <=30000:\n",
    "            return \"20001-30000\"\n",
    "        if row <=40000:\n",
    "            return \"30001-40000\"\n",
    "        if row <=60000:\n",
    "            return \"40000-60000\"\n",
    "        if row <=80000: \n",
    "            return \"60001-80000\"\n",
    "        if row <=100000:\n",
    "            return \"80001-100000\"\n",
    "        if row <=150000:\n",
    "            return \"100001-150000\"\n",
    "        if row <=200000:\n",
    "            return \"150001-200000\"\n",
    "        if row <=250000:\n",
    "            return \"200001-250000\"\n",
    "        if row <=300000:\n",
    "            return \"250001-300000\"\n",
    "        if row <=350000:\n",
    "            return \"300000-350000\"\n",
    "        return \"350000+\"\n",
    "credit_scoring_eng['income_range']=credit_scoring_eng.apply(organize_income, axis=1)\n",
    "\n",
    "default_rate=credit_scoring_eng['debt'].sum()/len(credit_scoring_eng['debt'])\n",
    "print(\"The default rate for all loans is: \" + str(default_rate))"
   ]
  },
  {
   "cell_type": "code",
   "execution_count": 12,
   "metadata": {},
   "outputs": [],
   "source": [
    "# credit_scoring_eng.children.value_counts()"
   ]
  },
  {
   "cell_type": "markdown",
   "metadata": {},
   "source": [
    "<div class=\"alert alert-block alert-warning\">\n",
    "<b>Remarks:</b> \n",
    "</div>\n",
    "We need to exclude or replace outliers in the data (-1,20)\n",
    "\n",
    "<span style=\"color:blue\">I deal with -1 down below in the categorization stage, and would have applied a similar approach to 20, but I spent a little time thinking about it, and in both cases I'm not sure declaring them 'outliers' is entirely warranted. In the case of the -1, it seems very likely that this could be an issue related to the database, and since one of the conclusions we draw is that having child==increased default risk, this is probably worth scrutinizing. One thing I did earlier on and ended up deleting was using median instead of mean, but I realized that since our measurement is on a 0-1 default rate, the median would hide more information than it would share. happy to rethink this if needed, but that's sort of what my frame of thought was</span>\n",
    "\n",
    "You can assume that these are typos and do the following -1 = 1, 20 = 2\n"
   ]
  },
  {
   "cell_type": "markdown",
   "metadata": {},
   "source": [
    "## Conclusion\n",
    "\n",
    "We identified a few places where our data could benefit from extra classification. \n",
    "\n",
    "First, we counted people who had -1 children in with individuals who had 0 children. One possible reason for this is that individuals with negative children are likely to currently not be raising children, like the respondants with 0 children. Another likely explanation might be an issue with the database we got the data from. We should follow up our analysis by further scrutinizing the data. It is possible, for example, that these respondents may have 1 child, and the 47 rows have an error. If this is the case it will skew out analysis! In the case of 20 children, while this number is large, it may not necessarily be invalid. \n",
    "\n",
    "Secondly, reading through the income ranges one entry at a time wouldn't be particularly informative, and likely wouldn't have shed any actionable insight on our data, so we created a function to group the total_income column into a few predifned ranges. At smaller incomes, we used a smaller range, as the impact of additional income is likely to have a greater impact on the default rate. \n",
    "\n",
    "Finally, answering the questions below will require us to know a lot about what conditions result in a higher risk of default. In order to accomplish this comparison, we calculated a baseline default rate by performing calculations on our dataset. "
   ]
  },
  {
   "cell_type": "markdown",
   "metadata": {},
   "source": [
    "### Step 3. Answering Questions About The Data\n",
    "\n",
    "Now that we've processed, deduplicated, and categorized our data, we're finally ready to begin answering some key questions for the team! "
   ]
  },
  {
   "cell_type": "markdown",
   "metadata": {},
   "source": [
    "### How Does Having Children Impact Rate Of Default?\n",
    "- Is there a relation between having kids and repaying a loan on time?"
   ]
  },
  {
   "cell_type": "code",
   "execution_count": 13,
   "metadata": {},
   "outputs": [
    {
     "data": {
      "text/html": [
       "<style  type=\"text/css\" >\n",
       "    #T_615c9a54_c3da_11ea_9bf3_02420a397da7row1_col1 {\n",
       "            background-color:  orange;\n",
       "        }    #T_615c9a54_c3da_11ea_9bf3_02420a397da7row2_col1 {\n",
       "            background-color:  orange;\n",
       "        }    #T_615c9a54_c3da_11ea_9bf3_02420a397da7row3_col1 {\n",
       "            background-color:  orange;\n",
       "        }    #T_615c9a54_c3da_11ea_9bf3_02420a397da7row4_col1 {\n",
       "            background-color:  orange;\n",
       "        }    #T_615c9a54_c3da_11ea_9bf3_02420a397da7row5_col1 {\n",
       "            background-color:  orange;\n",
       "        }</style><table id=\"T_615c9a54_c3da_11ea_9bf3_02420a397da7\" ><thead>    <tr>        <th class=\"blank level0\" ></th>        <th class=\"col_heading level0 col0\" >count</th>        <th class=\"col_heading level0 col1\" >mean</th>    </tr>    <tr>        <th class=\"index_name level0\" >children_adjusted</th>        <th class=\"blank\" ></th>        <th class=\"blank\" ></th>    </tr></thead><tbody>\n",
       "                <tr>\n",
       "                        <th id=\"T_615c9a54_c3da_11ea_9bf3_02420a397da7level0_row0\" class=\"row_heading level0 row0\" >0</th>\n",
       "                        <td id=\"T_615c9a54_c3da_11ea_9bf3_02420a397da7row0_col0\" class=\"data row0 col0\" >14196</td>\n",
       "                        <td id=\"T_615c9a54_c3da_11ea_9bf3_02420a397da7row0_col1\" class=\"data row0 col1\" >7.5%</td>\n",
       "            </tr>\n",
       "            <tr>\n",
       "                        <th id=\"T_615c9a54_c3da_11ea_9bf3_02420a397da7level0_row1\" class=\"row_heading level0 row1\" >1</th>\n",
       "                        <td id=\"T_615c9a54_c3da_11ea_9bf3_02420a397da7row1_col0\" class=\"data row1 col0\" >4818</td>\n",
       "                        <td id=\"T_615c9a54_c3da_11ea_9bf3_02420a397da7row1_col1\" class=\"data row1 col1\" >9.2%</td>\n",
       "            </tr>\n",
       "            <tr>\n",
       "                        <th id=\"T_615c9a54_c3da_11ea_9bf3_02420a397da7level0_row2\" class=\"row_heading level0 row2\" >2</th>\n",
       "                        <td id=\"T_615c9a54_c3da_11ea_9bf3_02420a397da7row2_col0\" class=\"data row2 col0\" >2055</td>\n",
       "                        <td id=\"T_615c9a54_c3da_11ea_9bf3_02420a397da7row2_col1\" class=\"data row2 col1\" >9.4%</td>\n",
       "            </tr>\n",
       "            <tr>\n",
       "                        <th id=\"T_615c9a54_c3da_11ea_9bf3_02420a397da7level0_row3\" class=\"row_heading level0 row3\" >3</th>\n",
       "                        <td id=\"T_615c9a54_c3da_11ea_9bf3_02420a397da7row3_col0\" class=\"data row3 col0\" >330</td>\n",
       "                        <td id=\"T_615c9a54_c3da_11ea_9bf3_02420a397da7row3_col1\" class=\"data row3 col1\" >8.2%</td>\n",
       "            </tr>\n",
       "            <tr>\n",
       "                        <th id=\"T_615c9a54_c3da_11ea_9bf3_02420a397da7level0_row4\" class=\"row_heading level0 row4\" >20</th>\n",
       "                        <td id=\"T_615c9a54_c3da_11ea_9bf3_02420a397da7row4_col0\" class=\"data row4 col0\" >76</td>\n",
       "                        <td id=\"T_615c9a54_c3da_11ea_9bf3_02420a397da7row4_col1\" class=\"data row4 col1\" >10.5%</td>\n",
       "            </tr>\n",
       "            <tr>\n",
       "                        <th id=\"T_615c9a54_c3da_11ea_9bf3_02420a397da7level0_row5\" class=\"row_heading level0 row5\" >4</th>\n",
       "                        <td id=\"T_615c9a54_c3da_11ea_9bf3_02420a397da7row5_col0\" class=\"data row5 col0\" >41</td>\n",
       "                        <td id=\"T_615c9a54_c3da_11ea_9bf3_02420a397da7row5_col1\" class=\"data row5 col1\" >9.8%</td>\n",
       "            </tr>\n",
       "            <tr>\n",
       "                        <th id=\"T_615c9a54_c3da_11ea_9bf3_02420a397da7level0_row6\" class=\"row_heading level0 row6\" >5</th>\n",
       "                        <td id=\"T_615c9a54_c3da_11ea_9bf3_02420a397da7row6_col0\" class=\"data row6 col0\" >9</td>\n",
       "                        <td id=\"T_615c9a54_c3da_11ea_9bf3_02420a397da7row6_col1\" class=\"data row6 col1\" >0.0%</td>\n",
       "            </tr>\n",
       "    </tbody></table>"
      ],
      "text/plain": [
       "<pandas.io.formats.style.Styler at 0x7f5b80c72890>"
      ]
     },
     "execution_count": 13,
     "metadata": {},
     "output_type": "execute_result"
    }
   ],
   "source": [
    "# print(credit_scoring_eng.pivot_table(index='children_adjusted', values=['debt'],aggfunc=['count','mean']))\n",
    "children_default_risk=credit_scoring_eng.groupby(['children_adjusted'])['debt'].agg(['count', 'mean']).sort_values('count', ascending=False).style.format({'mean': '{:,.1%}'.format,}).applymap(lambda x: 'background-color: orange' if x>default_rate else '',subset=['mean'])\n",
    "children_default_risk"
   ]
  },
  {
   "cell_type": "markdown",
   "metadata": {},
   "source": [
    "### Borrowers With Children Have An Increased Risk Of Default "
   ]
  },
  {
   "cell_type": "markdown",
   "metadata": {},
   "source": [
    "With the exception of borrowers who have 5 children, all borrowers with children had an increased risk of default when compared to our baseline default rate. This suggests that we will want to apply additional scruitiny when scoring applicants from these borrowers. "
   ]
  },
  {
   "cell_type": "markdown",
   "metadata": {},
   "source": [
    "## What Impact Does Marital Status Have On Loan Payments\n",
    "- Is there a relation between marital status and repaying a loan on time?"
   ]
  },
  {
   "cell_type": "code",
   "execution_count": 14,
   "metadata": {},
   "outputs": [
    {
     "data": {
      "text/html": [
       "<style  type=\"text/css\" >\n",
       "    #T_6164bc3e_c3da_11ea_9bf3_02420a397da7row1_col1 {\n",
       "            background-color :  orange;\n",
       "        }    #T_6164bc3e_c3da_11ea_9bf3_02420a397da7row2_col1 {\n",
       "            background-color :  orange;\n",
       "        }</style><table id=\"T_6164bc3e_c3da_11ea_9bf3_02420a397da7\" ><thead>    <tr>        <th class=\"blank level0\" ></th>        <th class=\"col_heading level0 col0\" >count</th>        <th class=\"col_heading level0 col1\" >mean</th>    </tr>    <tr>        <th class=\"index_name level0\" >family_status</th>        <th class=\"blank\" ></th>        <th class=\"blank\" ></th>    </tr></thead><tbody>\n",
       "                <tr>\n",
       "                        <th id=\"T_6164bc3e_c3da_11ea_9bf3_02420a397da7level0_row0\" class=\"row_heading level0 row0\" >married</th>\n",
       "                        <td id=\"T_6164bc3e_c3da_11ea_9bf3_02420a397da7row0_col0\" class=\"data row0 col0\" >12380</td>\n",
       "                        <td id=\"T_6164bc3e_c3da_11ea_9bf3_02420a397da7row0_col1\" class=\"data row0 col1\" >7.5%</td>\n",
       "            </tr>\n",
       "            <tr>\n",
       "                        <th id=\"T_6164bc3e_c3da_11ea_9bf3_02420a397da7level0_row1\" class=\"row_heading level0 row1\" >civil partnership</th>\n",
       "                        <td id=\"T_6164bc3e_c3da_11ea_9bf3_02420a397da7row1_col0\" class=\"data row1 col0\" >4177</td>\n",
       "                        <td id=\"T_6164bc3e_c3da_11ea_9bf3_02420a397da7row1_col1\" class=\"data row1 col1\" >9.3%</td>\n",
       "            </tr>\n",
       "            <tr>\n",
       "                        <th id=\"T_6164bc3e_c3da_11ea_9bf3_02420a397da7level0_row2\" class=\"row_heading level0 row2\" >unmarried</th>\n",
       "                        <td id=\"T_6164bc3e_c3da_11ea_9bf3_02420a397da7row2_col0\" class=\"data row2 col0\" >2813</td>\n",
       "                        <td id=\"T_6164bc3e_c3da_11ea_9bf3_02420a397da7row2_col1\" class=\"data row2 col1\" >9.7%</td>\n",
       "            </tr>\n",
       "            <tr>\n",
       "                        <th id=\"T_6164bc3e_c3da_11ea_9bf3_02420a397da7level0_row3\" class=\"row_heading level0 row3\" >divorced</th>\n",
       "                        <td id=\"T_6164bc3e_c3da_11ea_9bf3_02420a397da7row3_col0\" class=\"data row3 col0\" >1195</td>\n",
       "                        <td id=\"T_6164bc3e_c3da_11ea_9bf3_02420a397da7row3_col1\" class=\"data row3 col1\" >7.1%</td>\n",
       "            </tr>\n",
       "            <tr>\n",
       "                        <th id=\"T_6164bc3e_c3da_11ea_9bf3_02420a397da7level0_row4\" class=\"row_heading level0 row4\" >widow / widower</th>\n",
       "                        <td id=\"T_6164bc3e_c3da_11ea_9bf3_02420a397da7row4_col0\" class=\"data row4 col0\" >960</td>\n",
       "                        <td id=\"T_6164bc3e_c3da_11ea_9bf3_02420a397da7row4_col1\" class=\"data row4 col1\" >6.6%</td>\n",
       "            </tr>\n",
       "    </tbody></table>"
      ],
      "text/plain": [
       "<pandas.io.formats.style.Styler at 0x7f5b80c72ed0>"
      ]
     },
     "execution_count": 14,
     "metadata": {},
     "output_type": "execute_result"
    }
   ],
   "source": [
    "#print(credit_scoring_eng.pivot_table(index='family_status', values=['debt'],aggfunc=['count','mean']))\n",
    "\n",
    "relationship_default_risk=credit_scoring_eng.groupby(['family_status'])['debt'].agg(['count', 'mean']).sort_values('count',ascending=False).style.format({'mean': '{:,.1%}'.format,}).applymap(lambda x: 'background-color : orange' if x>default_rate else '',subset=['mean'])\n",
    "relationship_default_risk"
   ]
  },
  {
   "cell_type": "markdown",
   "metadata": {},
   "source": [
    "### Unmarried Borrowers and Borrowers In Partnerships Have an Increased Rate of Default"
   ]
  },
  {
   "cell_type": "markdown",
   "metadata": {},
   "source": [
    "If we evaluate the default rate for borrowers by their marital status, we find that borrowers who are unmarried or in a civil partnership have a higher than average default risk. "
   ]
  },
  {
   "cell_type": "markdown",
   "metadata": {},
   "source": [
    "## What Impact Does Income Have On Default?\n",
    "- Is there a relation between income level and repaying a loan on time?"
   ]
  },
  {
   "cell_type": "code",
   "execution_count": 15,
   "metadata": {},
   "outputs": [
    {
     "data": {
      "text/html": [
       "<style  type=\"text/css\" >\n",
       "    #T_6168f718_c3da_11ea_9bf3_02420a397da7row0_col1 {\n",
       "            background-color :  orange;\n",
       "        }    #T_6168f718_c3da_11ea_9bf3_02420a397da7row1_col1 {\n",
       "            background-color :  orange;\n",
       "        }    #T_6168f718_c3da_11ea_9bf3_02420a397da7row11_col1 {\n",
       "            background-color :  orange;\n",
       "        }</style><table id=\"T_6168f718_c3da_11ea_9bf3_02420a397da7\" ><thead>    <tr>        <th class=\"blank level0\" ></th>        <th class=\"col_heading level0 col0\" >count</th>        <th class=\"col_heading level0 col1\" >mean</th>    </tr>    <tr>        <th class=\"index_name level0\" >income_range</th>        <th class=\"blank\" ></th>        <th class=\"blank\" ></th>    </tr></thead><tbody>\n",
       "                <tr>\n",
       "                        <th id=\"T_6168f718_c3da_11ea_9bf3_02420a397da7level0_row0\" class=\"row_heading level0 row0\" >20001-30000</th>\n",
       "                        <td id=\"T_6168f718_c3da_11ea_9bf3_02420a397da7row0_col0\" class=\"data row0 col0\" >8236</td>\n",
       "                        <td id=\"T_6168f718_c3da_11ea_9bf3_02420a397da7row0_col1\" class=\"data row0 col1\" >8.5%</td>\n",
       "            </tr>\n",
       "            <tr>\n",
       "                        <th id=\"T_6168f718_c3da_11ea_9bf3_02420a397da7level0_row1\" class=\"row_heading level0 row1\" >10000-20000</th>\n",
       "                        <td id=\"T_6168f718_c3da_11ea_9bf3_02420a397da7row1_col0\" class=\"data row1 col0\" >6443</td>\n",
       "                        <td id=\"T_6168f718_c3da_11ea_9bf3_02420a397da7row1_col1\" class=\"data row1 col1\" >8.5%</td>\n",
       "            </tr>\n",
       "            <tr>\n",
       "                        <th id=\"T_6168f718_c3da_11ea_9bf3_02420a397da7level0_row2\" class=\"row_heading level0 row2\" >30001-40000</th>\n",
       "                        <td id=\"T_6168f718_c3da_11ea_9bf3_02420a397da7row2_col0\" class=\"data row2 col0\" >3107</td>\n",
       "                        <td id=\"T_6168f718_c3da_11ea_9bf3_02420a397da7row2_col1\" class=\"data row2 col1\" >7.8%</td>\n",
       "            </tr>\n",
       "            <tr>\n",
       "                        <th id=\"T_6168f718_c3da_11ea_9bf3_02420a397da7level0_row3\" class=\"row_heading level0 row3\" >40000-60000</th>\n",
       "                        <td id=\"T_6168f718_c3da_11ea_9bf3_02420a397da7row3_col0\" class=\"data row3 col0\" >2140</td>\n",
       "                        <td id=\"T_6168f718_c3da_11ea_9bf3_02420a397da7row3_col1\" class=\"data row3 col1\" >7.3%</td>\n",
       "            </tr>\n",
       "            <tr>\n",
       "                        <th id=\"T_6168f718_c3da_11ea_9bf3_02420a397da7level0_row4\" class=\"row_heading level0 row4\" >0-10000</th>\n",
       "                        <td id=\"T_6168f718_c3da_11ea_9bf3_02420a397da7row4_col0\" class=\"data row4 col0\" >927</td>\n",
       "                        <td id=\"T_6168f718_c3da_11ea_9bf3_02420a397da7row4_col1\" class=\"data row4 col1\" >6.3%</td>\n",
       "            </tr>\n",
       "            <tr>\n",
       "                        <th id=\"T_6168f718_c3da_11ea_9bf3_02420a397da7level0_row5\" class=\"row_heading level0 row5\" >60001-80000</th>\n",
       "                        <td id=\"T_6168f718_c3da_11ea_9bf3_02420a397da7row5_col0\" class=\"data row5 col0\" >450</td>\n",
       "                        <td id=\"T_6168f718_c3da_11ea_9bf3_02420a397da7row5_col1\" class=\"data row5 col1\" >5.3%</td>\n",
       "            </tr>\n",
       "            <tr>\n",
       "                        <th id=\"T_6168f718_c3da_11ea_9bf3_02420a397da7level0_row6\" class=\"row_heading level0 row6\" >80001-100000</th>\n",
       "                        <td id=\"T_6168f718_c3da_11ea_9bf3_02420a397da7row6_col0\" class=\"data row6 col0\" >123</td>\n",
       "                        <td id=\"T_6168f718_c3da_11ea_9bf3_02420a397da7row6_col1\" class=\"data row6 col1\" >6.5%</td>\n",
       "            </tr>\n",
       "            <tr>\n",
       "                        <th id=\"T_6168f718_c3da_11ea_9bf3_02420a397da7level0_row7\" class=\"row_heading level0 row7\" >100001-150000</th>\n",
       "                        <td id=\"T_6168f718_c3da_11ea_9bf3_02420a397da7row7_col0\" class=\"data row7 col0\" >71</td>\n",
       "                        <td id=\"T_6168f718_c3da_11ea_9bf3_02420a397da7row7_col1\" class=\"data row7 col1\" >5.6%</td>\n",
       "            </tr>\n",
       "            <tr>\n",
       "                        <th id=\"T_6168f718_c3da_11ea_9bf3_02420a397da7level0_row8\" class=\"row_heading level0 row8\" >150001-200000</th>\n",
       "                        <td id=\"T_6168f718_c3da_11ea_9bf3_02420a397da7row8_col0\" class=\"data row8 col0\" >17</td>\n",
       "                        <td id=\"T_6168f718_c3da_11ea_9bf3_02420a397da7row8_col1\" class=\"data row8 col1\" >5.9%</td>\n",
       "            </tr>\n",
       "            <tr>\n",
       "                        <th id=\"T_6168f718_c3da_11ea_9bf3_02420a397da7level0_row9\" class=\"row_heading level0 row9\" >200001-250000</th>\n",
       "                        <td id=\"T_6168f718_c3da_11ea_9bf3_02420a397da7row9_col0\" class=\"data row9 col0\" >5</td>\n",
       "                        <td id=\"T_6168f718_c3da_11ea_9bf3_02420a397da7row9_col1\" class=\"data row9 col1\" >0.0%</td>\n",
       "            </tr>\n",
       "            <tr>\n",
       "                        <th id=\"T_6168f718_c3da_11ea_9bf3_02420a397da7level0_row10\" class=\"row_heading level0 row10\" >250001-300000</th>\n",
       "                        <td id=\"T_6168f718_c3da_11ea_9bf3_02420a397da7row10_col0\" class=\"data row10 col0\" >4</td>\n",
       "                        <td id=\"T_6168f718_c3da_11ea_9bf3_02420a397da7row10_col1\" class=\"data row10 col1\" >0.0%</td>\n",
       "            </tr>\n",
       "            <tr>\n",
       "                        <th id=\"T_6168f718_c3da_11ea_9bf3_02420a397da7level0_row11\" class=\"row_heading level0 row11\" >350000+</th>\n",
       "                        <td id=\"T_6168f718_c3da_11ea_9bf3_02420a397da7row11_col0\" class=\"data row11 col0\" >2</td>\n",
       "                        <td id=\"T_6168f718_c3da_11ea_9bf3_02420a397da7row11_col1\" class=\"data row11 col1\" >50.0%</td>\n",
       "            </tr>\n",
       "    </tbody></table>"
      ],
      "text/plain": [
       "<pandas.io.formats.style.Styler at 0x7f5b805e8cd0>"
      ]
     },
     "execution_count": 15,
     "metadata": {},
     "output_type": "execute_result"
    }
   ],
   "source": [
    "income_default_risk=credit_scoring_eng.groupby(['income_range'])['debt'].agg(['count', 'mean']).sort_values('count',ascending=False).style.format({'mean': '{:,.1%}'.format,}).applymap(lambda x: 'background-color : orange' if x>default_rate else '',subset=['mean'])\n",
    "income_default_risk"
   ]
  },
  {
   "cell_type": "markdown",
   "metadata": {},
   "source": [
    "### Some Incomes At Elevated Risk of Default"
   ]
  },
  {
   "cell_type": "markdown",
   "metadata": {},
   "source": [
    "Borrowers with Incomes Between $10,000 and $30,000 or $350,000+ have an increased risk of default."
   ]
  },
  {
   "cell_type": "markdown",
   "metadata": {},
   "source": [
    "## Use of Funds \n",
    "- How do different loan purposes affect on-time repayment of the loan?"
   ]
  },
  {
   "cell_type": "code",
   "execution_count": 16,
   "metadata": {},
   "outputs": [
    {
     "data": {
      "text/html": [
       "<style  type=\"text/css\" >\n",
       "    #T_616cdcac_c3da_11ea_9bf3_02420a397da7row1_col1 {\n",
       "            background-color :  orange;\n",
       "        }    #T_616cdcac_c3da_11ea_9bf3_02420a397da7row2_col1 {\n",
       "            background-color :  orange;\n",
       "        }</style><table id=\"T_616cdcac_c3da_11ea_9bf3_02420a397da7\" ><thead>    <tr>        <th class=\"blank level0\" ></th>        <th class=\"col_heading level0 col0\" >count</th>        <th class=\"col_heading level0 col1\" >mean</th>    </tr>    <tr>        <th class=\"index_name level0\" >purpose_category</th>        <th class=\"blank\" ></th>        <th class=\"blank\" ></th>    </tr></thead><tbody>\n",
       "                <tr>\n",
       "                        <th id=\"T_616cdcac_c3da_11ea_9bf3_02420a397da7level0_row0\" class=\"row_heading level0 row0\" >mortgage</th>\n",
       "                        <td id=\"T_616cdcac_c3da_11ea_9bf3_02420a397da7row0_col0\" class=\"data row0 col0\" >7686</td>\n",
       "                        <td id=\"T_616cdcac_c3da_11ea_9bf3_02420a397da7row0_col1\" class=\"data row0 col1\" >7.2%</td>\n",
       "            </tr>\n",
       "            <tr>\n",
       "                        <th id=\"T_616cdcac_c3da_11ea_9bf3_02420a397da7level0_row1\" class=\"row_heading level0 row1\" >car_purchase</th>\n",
       "                        <td id=\"T_616cdcac_c3da_11ea_9bf3_02420a397da7row1_col0\" class=\"data row1 col0\" >4315</td>\n",
       "                        <td id=\"T_616cdcac_c3da_11ea_9bf3_02420a397da7row1_col1\" class=\"data row1 col1\" >9.3%</td>\n",
       "            </tr>\n",
       "            <tr>\n",
       "                        <th id=\"T_616cdcac_c3da_11ea_9bf3_02420a397da7level0_row2\" class=\"row_heading level0 row2\" >education</th>\n",
       "                        <td id=\"T_616cdcac_c3da_11ea_9bf3_02420a397da7row2_col0\" class=\"data row2 col0\" >4022</td>\n",
       "                        <td id=\"T_616cdcac_c3da_11ea_9bf3_02420a397da7row2_col1\" class=\"data row2 col1\" >9.2%</td>\n",
       "            </tr>\n",
       "            <tr>\n",
       "                        <th id=\"T_616cdcac_c3da_11ea_9bf3_02420a397da7level0_row3\" class=\"row_heading level0 row3\" >finance_wedding</th>\n",
       "                        <td id=\"T_616cdcac_c3da_11ea_9bf3_02420a397da7row3_col0\" class=\"data row3 col0\" >2348</td>\n",
       "                        <td id=\"T_616cdcac_c3da_11ea_9bf3_02420a397da7row3_col1\" class=\"data row3 col1\" >7.9%</td>\n",
       "            </tr>\n",
       "            <tr>\n",
       "                        <th id=\"T_616cdcac_c3da_11ea_9bf3_02420a397da7level0_row4\" class=\"row_heading level0 row4\" >other</th>\n",
       "                        <td id=\"T_616cdcac_c3da_11ea_9bf3_02420a397da7row4_col0\" class=\"data row4 col0\" >1907</td>\n",
       "                        <td id=\"T_616cdcac_c3da_11ea_9bf3_02420a397da7row4_col1\" class=\"data row4 col1\" >7.8%</td>\n",
       "            </tr>\n",
       "            <tr>\n",
       "                        <th id=\"T_616cdcac_c3da_11ea_9bf3_02420a397da7level0_row5\" class=\"row_heading level0 row5\" >construction</th>\n",
       "                        <td id=\"T_616cdcac_c3da_11ea_9bf3_02420a397da7row5_col0\" class=\"data row5 col0\" >1247</td>\n",
       "                        <td id=\"T_616cdcac_c3da_11ea_9bf3_02420a397da7row5_col1\" class=\"data row5 col1\" >6.2%</td>\n",
       "            </tr>\n",
       "    </tbody></table>"
      ],
      "text/plain": [
       "<pandas.io.formats.style.Styler at 0x7f5b805cfd10>"
      ]
     },
     "execution_count": 16,
     "metadata": {},
     "output_type": "execute_result"
    }
   ],
   "source": [
    "#print(credit_scoring_eng.pivot_table(index='purpose_category',values=['debt'],aggfunc=['count', 'mean']))\n",
    "purpose_default_risk=credit_scoring_eng.groupby(['purpose_category'])['debt'].agg(['count', 'mean']).sort_values('count',ascending=False).style.format({'mean': '{:,.1%}'.format,}).applymap(lambda x: 'background-color : orange' if x>default_rate else '',subset=['mean'])\n",
    "purpose_default_risk"
   ]
  },
  {
   "cell_type": "markdown",
   "metadata": {},
   "source": [
    "### Auto Loans and Education Have Increased Risk of Default"
   ]
  },
  {
   "cell_type": "markdown",
   "metadata": {},
   "source": [
    "Our analysis shows that borrowers who are using funds for financing an auto loan or an education have an increased risk of default. "
   ]
  },
  {
   "cell_type": "markdown",
   "metadata": {},
   "source": [
    "## Step 4. General conclusion"
   ]
  },
  {
   "cell_type": "markdown",
   "metadata": {},
   "source": [
    "We began our project with four specific questions we needed to answer. Through our analysis, we identified that: \n",
    "\n",
    "- Some borrowers with children are at increased risk of default. \n",
    "- Unmarried and partnered borrowers are at increased risk of default. \n",
    "- Borrowers with an income between 10,000 and 30,000 dollars are at increased risk of default. \n",
    "- Borrowers with an income greater than 350,000 are at the highest risk of default. \n",
    "- Borrowers using proceedes for auto purchases are at increased risk of default. \n",
    "- Borrowers using proceedes for education are at an increased risk of default. "
   ]
  },
  {
   "cell_type": "markdown",
   "metadata": {},
   "source": [
    "<div class=\"alert alert-block alert-success\">\n",
    "\n",
    "### Code\n",
    "\n",
    "Everything is fine. That is very pleased - met project structure, the steps of the job identified and executed sequentially, the code is written carefully, use code comments, you can quickly understand which operation to perform complex design, variable names convey the meaning of the operations. As a tip, I suggest that you study the try-except construction more thoroughly and start applying it to solve the problem. This will improve the code's fault tolerance and protect the code from future breakdowns.\n",
    "\n",
    "### Conclusions\n",
    "\n",
    "You are very good at analyzing complex data, making correct hypotheses, and checking your conclusions for the possibility of matching reality. You can see a deep understanding of the essence of the analysis. It was very interesting to check your project and follow your thought, keep it up! \n",
    "</div>\n"
   ]
  },
  {
   "cell_type": "markdown",
   "metadata": {},
   "source": [
    "### Project Readiness Checklist\n",
    "\n",
    "Put 'x' in the completed points. Then press Shift + Enter."
   ]
  },
  {
   "cell_type": "markdown",
   "metadata": {},
   "source": [
    "- [x]  file open;\n",
    "- [x]  file examined;\n",
    "- [x]  missing values defined;\n",
    "- [x]  missing values are filled;\n",
    "- [x]  an explanation of which missing value types were detected;\n",
    "- [x]  explanation for the possible causes of missing values;\n",
    "- [x]  an explanation of how the blanks are filled;\n",
    "- [x]  replaced the real data type with an integer;\n",
    "- [x]  an explanation of which method is used to change the data type and why;\n",
    "- [x]  duplicates deleted;\n",
    "- [x]  an explanation of which method is used to find and remove duplicates;\n",
    "- [x]  description of the possible reasons for the appearance of duplicates in the data;\n",
    "- [x]  data is categorized;\n",
    "- [x]  an explanation of the principle of data categorization;\n",
    "- [x]  an answer to the question \"Is there a relation between having kids and repaying a loan on time?\";\n",
    "- [x]  an answer to the question \" Is there a relation between marital status and repaying a loan on time?\";\n",
    "- [x]   an answer to the question \" Is there a relation between income level and repaying a loan on time?\";\n",
    "- [x]  an answer to the question \" How do different loan purposes affect on-time repayment of the loan?\"\n",
    "- [x]  conclusions are present on each stage;\n",
    "- [x]  a general conclusion is made."
   ]
  }
 ],
 "metadata": {
  "kernelspec": {
   "display_name": "Python 3",
   "language": "python",
   "name": "python3"
  },
  "language_info": {
   "codemirror_mode": {
    "name": "ipython",
    "version": 3
   },
   "file_extension": ".py",
   "mimetype": "text/x-python",
   "name": "python",
   "nbconvert_exporter": "python",
   "pygments_lexer": "ipython3",
   "version": "3.7.6"
  }
 },
 "nbformat": 4,
 "nbformat_minor": 2
}
