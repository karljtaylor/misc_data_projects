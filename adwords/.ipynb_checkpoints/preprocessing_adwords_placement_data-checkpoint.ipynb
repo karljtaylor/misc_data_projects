{
 "cells": [
  {
   "cell_type": "markdown",
   "metadata": {},
   "source": [
    "## Exploring Two Adwords Campaigns \n",
    "\n",
    "Earlier this month, I ran both an Adwords Video (YouTube) and a Google Display campaign. In order to better understand the performance of these campaigns, I want to spend a little bit of time exploring some of the insights that can be gained by studying the placement data. "
   ]
  },
  {
   "cell_type": "code",
   "execution_count": 218,
   "metadata": {},
   "outputs": [
    {
     "ename": "FileNotFoundError",
     "evalue": "[Errno 2] File /imports/display_adwords_placements.csv does not exist: '/imports/display_adwords_placements.csv'",
     "output_type": "error",
     "traceback": [
      "\u001b[0;31m---------------------------------------------------------------------------\u001b[0m",
      "\u001b[0;31mFileNotFoundError\u001b[0m                         Traceback (most recent call last)",
      "\u001b[0;32m<ipython-input-218-2bdb0ee52958>\u001b[0m in \u001b[0;36m<module>\u001b[0;34m\u001b[0m\n\u001b[1;32m      3\u001b[0m \u001b[0;34m\u001b[0m\u001b[0m\n\u001b[1;32m      4\u001b[0m \u001b[0;31m#import display campaign data and check the basics.\u001b[0m\u001b[0;34m\u001b[0m\u001b[0;34m\u001b[0m\u001b[0;34m\u001b[0m\u001b[0m\n\u001b[0;32m----> 5\u001b[0;31m \u001b[0mdisplay\u001b[0m\u001b[0;34m=\u001b[0m\u001b[0mpd\u001b[0m\u001b[0;34m.\u001b[0m\u001b[0mread_csv\u001b[0m\u001b[0;34m(\u001b[0m\u001b[0;34m'/imports/display_adwords_placements.csv'\u001b[0m\u001b[0;34m)\u001b[0m\u001b[0;34m\u001b[0m\u001b[0;34m\u001b[0m\u001b[0m\n\u001b[0m\u001b[1;32m      6\u001b[0m \u001b[0mdisplay\u001b[0m\u001b[0;34m.\u001b[0m\u001b[0minfo\u001b[0m\u001b[0;34m(\u001b[0m\u001b[0;34m)\u001b[0m\u001b[0;34m\u001b[0m\u001b[0;34m\u001b[0m\u001b[0m\n\u001b[1;32m      7\u001b[0m \u001b[0mdisplay\u001b[0m\u001b[0;34m.\u001b[0m\u001b[0mhead\u001b[0m\u001b[0;34m(\u001b[0m\u001b[0;36m5\u001b[0m\u001b[0;34m)\u001b[0m\u001b[0;34m\u001b[0m\u001b[0;34m\u001b[0m\u001b[0m\n",
      "\u001b[0;32m~/opt/anaconda3/lib/python3.7/site-packages/pandas/io/parsers.py\u001b[0m in \u001b[0;36mparser_f\u001b[0;34m(filepath_or_buffer, sep, delimiter, header, names, index_col, usecols, squeeze, prefix, mangle_dupe_cols, dtype, engine, converters, true_values, false_values, skipinitialspace, skiprows, skipfooter, nrows, na_values, keep_default_na, na_filter, verbose, skip_blank_lines, parse_dates, infer_datetime_format, keep_date_col, date_parser, dayfirst, cache_dates, iterator, chunksize, compression, thousands, decimal, lineterminator, quotechar, quoting, doublequote, escapechar, comment, encoding, dialect, error_bad_lines, warn_bad_lines, delim_whitespace, low_memory, memory_map, float_precision)\u001b[0m\n\u001b[1;32m    674\u001b[0m         )\n\u001b[1;32m    675\u001b[0m \u001b[0;34m\u001b[0m\u001b[0m\n\u001b[0;32m--> 676\u001b[0;31m         \u001b[0;32mreturn\u001b[0m \u001b[0m_read\u001b[0m\u001b[0;34m(\u001b[0m\u001b[0mfilepath_or_buffer\u001b[0m\u001b[0;34m,\u001b[0m \u001b[0mkwds\u001b[0m\u001b[0;34m)\u001b[0m\u001b[0;34m\u001b[0m\u001b[0;34m\u001b[0m\u001b[0m\n\u001b[0m\u001b[1;32m    677\u001b[0m \u001b[0;34m\u001b[0m\u001b[0m\n\u001b[1;32m    678\u001b[0m     \u001b[0mparser_f\u001b[0m\u001b[0;34m.\u001b[0m\u001b[0m__name__\u001b[0m \u001b[0;34m=\u001b[0m \u001b[0mname\u001b[0m\u001b[0;34m\u001b[0m\u001b[0;34m\u001b[0m\u001b[0m\n",
      "\u001b[0;32m~/opt/anaconda3/lib/python3.7/site-packages/pandas/io/parsers.py\u001b[0m in \u001b[0;36m_read\u001b[0;34m(filepath_or_buffer, kwds)\u001b[0m\n\u001b[1;32m    446\u001b[0m \u001b[0;34m\u001b[0m\u001b[0m\n\u001b[1;32m    447\u001b[0m     \u001b[0;31m# Create the parser.\u001b[0m\u001b[0;34m\u001b[0m\u001b[0;34m\u001b[0m\u001b[0;34m\u001b[0m\u001b[0m\n\u001b[0;32m--> 448\u001b[0;31m     \u001b[0mparser\u001b[0m \u001b[0;34m=\u001b[0m \u001b[0mTextFileReader\u001b[0m\u001b[0;34m(\u001b[0m\u001b[0mfp_or_buf\u001b[0m\u001b[0;34m,\u001b[0m \u001b[0;34m**\u001b[0m\u001b[0mkwds\u001b[0m\u001b[0;34m)\u001b[0m\u001b[0;34m\u001b[0m\u001b[0;34m\u001b[0m\u001b[0m\n\u001b[0m\u001b[1;32m    449\u001b[0m \u001b[0;34m\u001b[0m\u001b[0m\n\u001b[1;32m    450\u001b[0m     \u001b[0;32mif\u001b[0m \u001b[0mchunksize\u001b[0m \u001b[0;32mor\u001b[0m \u001b[0miterator\u001b[0m\u001b[0;34m:\u001b[0m\u001b[0;34m\u001b[0m\u001b[0;34m\u001b[0m\u001b[0m\n",
      "\u001b[0;32m~/opt/anaconda3/lib/python3.7/site-packages/pandas/io/parsers.py\u001b[0m in \u001b[0;36m__init__\u001b[0;34m(self, f, engine, **kwds)\u001b[0m\n\u001b[1;32m    878\u001b[0m             \u001b[0mself\u001b[0m\u001b[0;34m.\u001b[0m\u001b[0moptions\u001b[0m\u001b[0;34m[\u001b[0m\u001b[0;34m\"has_index_names\"\u001b[0m\u001b[0;34m]\u001b[0m \u001b[0;34m=\u001b[0m \u001b[0mkwds\u001b[0m\u001b[0;34m[\u001b[0m\u001b[0;34m\"has_index_names\"\u001b[0m\u001b[0;34m]\u001b[0m\u001b[0;34m\u001b[0m\u001b[0;34m\u001b[0m\u001b[0m\n\u001b[1;32m    879\u001b[0m \u001b[0;34m\u001b[0m\u001b[0m\n\u001b[0;32m--> 880\u001b[0;31m         \u001b[0mself\u001b[0m\u001b[0;34m.\u001b[0m\u001b[0m_make_engine\u001b[0m\u001b[0;34m(\u001b[0m\u001b[0mself\u001b[0m\u001b[0;34m.\u001b[0m\u001b[0mengine\u001b[0m\u001b[0;34m)\u001b[0m\u001b[0;34m\u001b[0m\u001b[0;34m\u001b[0m\u001b[0m\n\u001b[0m\u001b[1;32m    881\u001b[0m \u001b[0;34m\u001b[0m\u001b[0m\n\u001b[1;32m    882\u001b[0m     \u001b[0;32mdef\u001b[0m \u001b[0mclose\u001b[0m\u001b[0;34m(\u001b[0m\u001b[0mself\u001b[0m\u001b[0;34m)\u001b[0m\u001b[0;34m:\u001b[0m\u001b[0;34m\u001b[0m\u001b[0;34m\u001b[0m\u001b[0m\n",
      "\u001b[0;32m~/opt/anaconda3/lib/python3.7/site-packages/pandas/io/parsers.py\u001b[0m in \u001b[0;36m_make_engine\u001b[0;34m(self, engine)\u001b[0m\n\u001b[1;32m   1112\u001b[0m     \u001b[0;32mdef\u001b[0m \u001b[0m_make_engine\u001b[0m\u001b[0;34m(\u001b[0m\u001b[0mself\u001b[0m\u001b[0;34m,\u001b[0m \u001b[0mengine\u001b[0m\u001b[0;34m=\u001b[0m\u001b[0;34m\"c\"\u001b[0m\u001b[0;34m)\u001b[0m\u001b[0;34m:\u001b[0m\u001b[0;34m\u001b[0m\u001b[0;34m\u001b[0m\u001b[0m\n\u001b[1;32m   1113\u001b[0m         \u001b[0;32mif\u001b[0m \u001b[0mengine\u001b[0m \u001b[0;34m==\u001b[0m \u001b[0;34m\"c\"\u001b[0m\u001b[0;34m:\u001b[0m\u001b[0;34m\u001b[0m\u001b[0;34m\u001b[0m\u001b[0m\n\u001b[0;32m-> 1114\u001b[0;31m             \u001b[0mself\u001b[0m\u001b[0;34m.\u001b[0m\u001b[0m_engine\u001b[0m \u001b[0;34m=\u001b[0m \u001b[0mCParserWrapper\u001b[0m\u001b[0;34m(\u001b[0m\u001b[0mself\u001b[0m\u001b[0;34m.\u001b[0m\u001b[0mf\u001b[0m\u001b[0;34m,\u001b[0m \u001b[0;34m**\u001b[0m\u001b[0mself\u001b[0m\u001b[0;34m.\u001b[0m\u001b[0moptions\u001b[0m\u001b[0;34m)\u001b[0m\u001b[0;34m\u001b[0m\u001b[0;34m\u001b[0m\u001b[0m\n\u001b[0m\u001b[1;32m   1115\u001b[0m         \u001b[0;32melse\u001b[0m\u001b[0;34m:\u001b[0m\u001b[0;34m\u001b[0m\u001b[0;34m\u001b[0m\u001b[0m\n\u001b[1;32m   1116\u001b[0m             \u001b[0;32mif\u001b[0m \u001b[0mengine\u001b[0m \u001b[0;34m==\u001b[0m \u001b[0;34m\"python\"\u001b[0m\u001b[0;34m:\u001b[0m\u001b[0;34m\u001b[0m\u001b[0;34m\u001b[0m\u001b[0m\n",
      "\u001b[0;32m~/opt/anaconda3/lib/python3.7/site-packages/pandas/io/parsers.py\u001b[0m in \u001b[0;36m__init__\u001b[0;34m(self, src, **kwds)\u001b[0m\n\u001b[1;32m   1889\u001b[0m         \u001b[0mkwds\u001b[0m\u001b[0;34m[\u001b[0m\u001b[0;34m\"usecols\"\u001b[0m\u001b[0;34m]\u001b[0m \u001b[0;34m=\u001b[0m \u001b[0mself\u001b[0m\u001b[0;34m.\u001b[0m\u001b[0musecols\u001b[0m\u001b[0;34m\u001b[0m\u001b[0;34m\u001b[0m\u001b[0m\n\u001b[1;32m   1890\u001b[0m \u001b[0;34m\u001b[0m\u001b[0m\n\u001b[0;32m-> 1891\u001b[0;31m         \u001b[0mself\u001b[0m\u001b[0;34m.\u001b[0m\u001b[0m_reader\u001b[0m \u001b[0;34m=\u001b[0m \u001b[0mparsers\u001b[0m\u001b[0;34m.\u001b[0m\u001b[0mTextReader\u001b[0m\u001b[0;34m(\u001b[0m\u001b[0msrc\u001b[0m\u001b[0;34m,\u001b[0m \u001b[0;34m**\u001b[0m\u001b[0mkwds\u001b[0m\u001b[0;34m)\u001b[0m\u001b[0;34m\u001b[0m\u001b[0;34m\u001b[0m\u001b[0m\n\u001b[0m\u001b[1;32m   1892\u001b[0m         \u001b[0mself\u001b[0m\u001b[0;34m.\u001b[0m\u001b[0munnamed_cols\u001b[0m \u001b[0;34m=\u001b[0m \u001b[0mself\u001b[0m\u001b[0;34m.\u001b[0m\u001b[0m_reader\u001b[0m\u001b[0;34m.\u001b[0m\u001b[0munnamed_cols\u001b[0m\u001b[0;34m\u001b[0m\u001b[0;34m\u001b[0m\u001b[0m\n\u001b[1;32m   1893\u001b[0m \u001b[0;34m\u001b[0m\u001b[0m\n",
      "\u001b[0;32mpandas/_libs/parsers.pyx\u001b[0m in \u001b[0;36mpandas._libs.parsers.TextReader.__cinit__\u001b[0;34m()\u001b[0m\n",
      "\u001b[0;32mpandas/_libs/parsers.pyx\u001b[0m in \u001b[0;36mpandas._libs.parsers.TextReader._setup_parser_source\u001b[0;34m()\u001b[0m\n",
      "\u001b[0;31mFileNotFoundError\u001b[0m: [Errno 2] File /imports/display_adwords_placements.csv does not exist: '/imports/display_adwords_placements.csv'"
     ]
    }
   ],
   "source": [
    "import pandas as pd \n",
    "import numpy as np \n",
    "\n",
    "#import display campaign data and check the basics. \n",
    "display=pd.read_csv('/imports/display_adwords_placements.csv')\n",
    "display.info()\n",
    "display.head(5)\n",
    "\n",
    "#import video campaign, same deal. \n",
    "video=pd.read_csv('/imports/Video_adwords_placements.csv')\n",
    "video.info()\n",
    "video.head(5)"
   ]
  },
  {
   "cell_type": "markdown",
   "metadata": {},
   "source": [
    "## Cleaning Up Video Views Data\n",
    "Taking a look at our data, it seems like we have more than 1,474 placements that only generated one view. It's probably not worth our time to dive too deply on these sources, so let's clean up our data a little bit by getting rid of them. "
   ]
  },
  {
   "cell_type": "code",
   "execution_count": 15,
   "metadata": {},
   "outputs": [
    {
     "name": "stdout",
     "output_type": "stream",
     "text": [
      "<class 'pandas.core.frame.DataFrame'>\n",
      "Int64Index: 424 entries, 7 to 1472\n",
      "Data columns (total 13 columns):\n",
      " #   Column         Non-Null Count  Dtype  \n",
      "---  ------         --------------  -----  \n",
      " 0   Placement      424 non-null    object \n",
      " 1   Placement url  424 non-null    object \n",
      " 2   Type           424 non-null    object \n",
      " 3   Ad group       424 non-null    object \n",
      " 4   Views          424 non-null    int64  \n",
      " 5   Currency code  424 non-null    object \n",
      " 6   Avg. CPV       424 non-null    object \n",
      " 7   Impr.          424 non-null    object \n",
      " 8   View rate      424 non-null    object \n",
      " 9   Cost           424 non-null    float64\n",
      " 10  Conversions    424 non-null    float64\n",
      " 11  Cost / conv.   424 non-null    float64\n",
      " 12  Conv. rate     424 non-null    object \n",
      "dtypes: float64(3), int64(1), object(9)\n",
      "memory usage: 46.4+ KB\n"
     ]
    },
    {
     "data": {
      "text/plain": [
       "Placement        0\n",
       "Placement url    0\n",
       "Type             0\n",
       "Ad group         0\n",
       "Views            0\n",
       "Currency code    0\n",
       "Avg. CPV         0\n",
       "Impr.            0\n",
       "View rate        0\n",
       "Cost             0\n",
       "Conversions      0\n",
       "Cost / conv.     0\n",
       "Conv. rate       0\n",
       "dtype: int64"
      ]
     },
     "execution_count": 15,
     "metadata": {},
     "output_type": "execute_result"
    }
   ],
   "source": [
    "better_than_nothing_video_views=video.query('Views >= 2')\n",
    "better_than_nothing_video_views.head(5)\n",
    "better_than_nothing_video_views.info()\n",
    "better_than_nothing_video_views.isna().sum()"
   ]
  },
  {
   "cell_type": "markdown",
   "metadata": {},
   "source": [
    "### No Duplicates, 424 Values \n",
    "\n",
    "Excellent. We've already cleaned up our video views significantly. Let's keep going, and do something similar for our display ads data. "
   ]
  },
  {
   "cell_type": "code",
   "execution_count": 17,
   "metadata": {},
   "outputs": [
    {
     "name": "stdout",
     "output_type": "stream",
     "text": [
      "<class 'pandas.core.frame.DataFrame'>\n",
      "Int64Index: 137 entries, 3 to 878\n",
      "Data columns (total 12 columns):\n",
      " #   Column         Non-Null Count  Dtype  \n",
      "---  ------         --------------  -----  \n",
      " 0   Placement      137 non-null    object \n",
      " 1   Placement url  137 non-null    object \n",
      " 2   Type           137 non-null    object \n",
      " 3   Clicks         137 non-null    int64  \n",
      " 4   Impr.          137 non-null    object \n",
      " 5   CTR            137 non-null    object \n",
      " 6   Currency code  137 non-null    object \n",
      " 7   Avg. CPC       137 non-null    object \n",
      " 8   Cost           137 non-null    float64\n",
      " 9   Conversions    137 non-null    float64\n",
      " 10  Cost / conv.   137 non-null    float64\n",
      " 11  Conv. rate     137 non-null    object \n",
      "dtypes: float64(3), int64(1), object(8)\n",
      "memory usage: 13.9+ KB\n"
     ]
    },
    {
     "data": {
      "text/plain": [
       "Placement        0\n",
       "Placement url    0\n",
       "Type             0\n",
       "Clicks           0\n",
       "Impr.            0\n",
       "CTR              0\n",
       "Currency code    0\n",
       "Avg. CPC         0\n",
       "Cost             0\n",
       "Conversions      0\n",
       "Cost / conv.     0\n",
       "Conv. rate       0\n",
       "dtype: int64"
      ]
     },
     "execution_count": 17,
     "metadata": {},
     "output_type": "execute_result"
    }
   ],
   "source": [
    "better_than_nothing_display=display.query('Clicks >= 2')\n",
    "better_than_nothing_display.head(5)\n",
    "better_than_nothing_display.info()\n",
    "better_than_nothing_display.isnull().sum()"
   ]
  },
  {
   "cell_type": "markdown",
   "metadata": {},
   "source": [
    "## Identifying Viewability Problems \n",
    "#### Work In Progress \n",
    "\n",
    "In addition to collecting our slice above for further analysis of good opportunities, let's take a moment to collect information that can help us to identify any issues with the viewability of both "
   ]
  },
  {
   "cell_type": "code",
   "execution_count": 214,
   "metadata": {},
   "outputs": [
    {
     "name": "stdout",
     "output_type": "stream",
     "text": [
      "exported viewability issues to csv\n",
      "exported video viewability issues to csv\n",
      "calculating viewability issue count\n",
      "470\n"
     ]
    }
   ],
   "source": [
    "#display.head(5)\n",
    "no_click_display=display.query('Clicks == 0')\n",
    "no_click_display_stat=no_click_display.pivot_table(index='Placement', values=['Clicks', 'Impr.'], aggfunc=\"first\")\n",
    "\n",
    "no_click_display_stat['Impr.']=no_click_display_stat['Impr.'].str.replace(',','')\n",
    "no_click_display_stat['Impr.']=no_click_display_stat['Impr.'].astype(int)\n",
    "no_click_with_impressions=no_click_display_stat.query('`Impr.` >= 1')\n",
    "#no_click_with_impressions.head(20)\n",
    "click_viewability_issues=pd.merge(no_click_with_impressions,display[['Placement', 'Placement url']], on='Placement', how='left')\n",
    "click_viewability_issues.to_csv('display_viewability_issues.csv')\n",
    "print('exported viewability issues to csv')\n",
    "\n",
    "no_view_video=video.query('Views == 0')\n",
    "no_view_video_stat=no_view_video.pivot_table(index='Placement', values=['Views','Impr.'], aggfunc=\"first\")\n",
    "no_view_video_stat['Impr.']=no_view_video_stat['Impr.'].str.replace(',','')\n",
    "no_view_video_stat['Impr.']=no_view_video_stat['Impr.'].astype(int)\n",
    "no_view_with_impressions=no_view_video_stat.query('`Impr.` >= 1')\n",
    "viewability_video_issues=pd.merge(no_view_with_impressions,video[['Placement', 'Placement url']], on='Placement', how='left')\n",
    "viewability_video_issues.to_csv('video_viewability_issues.csv')\n",
    "print('exported video viewability issues to csv')\n",
    "\n",
    "trouble = len(viewability_video_issues) + len(click_viewability_issues)\n",
    "print(\"calculating viewability issue count\")\n",
    "print(trouble)"
   ]
  },
  {
   "cell_type": "markdown",
   "metadata": {},
   "source": [
    "## Found 470 Viewability Issues \n",
    "\n",
    "We found 1 potential video viewability issue, and 469 potential display viewabilty issues. "
   ]
  },
  {
   "cell_type": "markdown",
   "metadata": {},
   "source": [
    "## Looking At High Performing Video Views\n",
    "Now let's see if we can generate a list of our high performing video view placements. \n"
   ]
  },
  {
   "cell_type": "code",
   "execution_count": 173,
   "metadata": {
    "scrolled": true
   },
   "outputs": [
    {
     "name": "stdout",
     "output_type": "stream",
     "text": [
      "exported high value view placements!\n"
     ]
    }
   ],
   "source": [
    "#first, let's take a quick look at the stats for views. \n",
    "#better_than_nothing_video_views['View rate'].describe()\n",
    "#ok, let's see if we can look at how these are distributed. \n",
    "#better_than_nothing_video_views['View rate'].hist(bins=84)\n",
    "multiple_views_stat=better_than_nothing_video_views.pivot_table(index='Placement', values=['Views', 'Impr.'], aggfunc=\"first\")\n",
    "#multiple_views_stat.to_csv(\"multiple_views.csv\")\n",
    "#multiple_views_rate=multiple_views_stat['Views']/multiple_views_stat['Impr.']\n",
    "#multiple_views_stat.head(20)\n",
    "#multiple_views_stat.info()\n",
    "multiple_views_stat['Impr.']=multiple_views_stat['Impr.'].str.replace(',','')\n",
    "multiple_views_stat['Impr.']=multiple_views_stat['Impr.'].astype(int)\n",
    "multiple_views_rate=multiple_views_stat['Views']/multiple_views_stat['Impr.']\n",
    "multiple_views_stat['vtr']=multiple_views_rate\n",
    "#cheese=better_than_nothing_video_views.query('Placement in @multiple_views_stat')\n",
    "#multiple_views_stat['Placement_url']=cheese\n",
    "merged=pd.merge(multiple_views_stat,better_than_nothing_video_views[['Placement','Placement url']], on='Placement', how='left')\n",
    "#merged['vtr'].hist(bins=40)\n",
    "#merged_good_stat=merged.query('.2 < vtr > 1')\n",
    "#merged_good_stat.head(20)\n",
    "merged=merged.sort_values(by='Views', ascending=False)\n",
    "merged.head(20)\n",
    "merged.to_csv('high_value_view_placements.csv')\n",
    "print('exported high value view placements!')\n"
   ]
  },
  {
   "cell_type": "markdown",
   "metadata": {},
   "source": [
    "### We Got What We Came For! \n",
    "We've identified a slice of high value placements. Let's try the same thing with the display data! "
   ]
  },
  {
   "cell_type": "code",
   "execution_count": 215,
   "metadata": {},
   "outputs": [
    {
     "name": "stdout",
     "output_type": "stream",
     "text": [
      "exported high value display placements!\n"
     ]
    }
   ],
   "source": [
    "display_stat=better_than_nothing_display.pivot_table(index='Placement', values=['Clicks', 'Impr.'], aggfunc='first')\n",
    "#display_stat.info()\n",
    "display_stat['Impr.']=display_stat['Impr.'].str.replace(',','')\n",
    "display_stat['Impr.']=display_stat['Impr.'].astype(int)\n",
    "display_stat['ctr']=display_stat['Clicks']/display_stat['Impr.']\n",
    "#display_stat.head(20)\n",
    "display_merged=pd.merge(display_stat,better_than_nothing_display[['Placement','Placement url']], on='Placement')\n",
    "display_merged=display_merged.sort_values(by='Clicks', ascending=False)\n",
    "display_merged.head(20)\n",
    "display_merged.to_csv('high_value_display_placements.csv')\n",
    "print('exported high value display placements!')"
   ]
  },
  {
   "cell_type": "markdown",
   "metadata": {},
   "source": [
    "## Found High Value Placements \n",
    "\n",
    "Now that we've generated our high value video and display placements, let's do a little analysis of what we've found. "
   ]
  },
  {
   "cell_type": "code",
   "execution_count": null,
   "metadata": {},
   "outputs": [],
   "source": []
  }
 ],
 "metadata": {
  "kernelspec": {
   "display_name": "Python 3",
   "language": "python",
   "name": "python3"
  },
  "language_info": {
   "codemirror_mode": {
    "name": "ipython",
    "version": 3
   },
   "file_extension": ".py",
   "mimetype": "text/x-python",
   "name": "python",
   "nbconvert_exporter": "python",
   "pygments_lexer": "ipython3",
   "version": "3.7.6"
  }
 },
 "nbformat": 4,
 "nbformat_minor": 4
}
