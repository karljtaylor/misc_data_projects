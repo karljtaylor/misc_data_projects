{
 "cells": [
  {
   "cell_type": "markdown",
   "metadata": {},
   "source": [
    "## Exploring Two Adwords Campaigns \n",
    "\n",
    "Earlier this month, I ran both an Adwords Video (YouTube) and a Google Display campaign. In order to better understand the performance of these campaigns, I want to spend a little bit of time exploring some of the insights that can be gained by studying the placement data. "
   ]
  },
  {
   "cell_type": "code",
   "execution_count": 224,
   "metadata": {},
   "outputs": [
    {
     "name": "stdout",
     "output_type": "stream",
     "text": [
      "<class 'pandas.core.frame.DataFrame'>\n",
      "RangeIndex: 879 entries, 0 to 878\n",
      "Data columns (total 12 columns):\n",
      " #   Column         Non-Null Count  Dtype  \n",
      "---  ------         --------------  -----  \n",
      " 0   Placement      879 non-null    object \n",
      " 1   Placement url  879 non-null    object \n",
      " 2   Type           879 non-null    object \n",
      " 3   Clicks         879 non-null    int64  \n",
      " 4   Impr.          879 non-null    object \n",
      " 5   CTR            879 non-null    object \n",
      " 6   Currency code  879 non-null    object \n",
      " 7   Avg. CPC       879 non-null    object \n",
      " 8   Cost           879 non-null    float64\n",
      " 9   Conversions    879 non-null    float64\n",
      " 10  Cost / conv.   879 non-null    float64\n",
      " 11  Conv. rate     879 non-null    object \n",
      "dtypes: float64(3), int64(1), object(8)\n",
      "memory usage: 82.5+ KB\n",
      "<class 'pandas.core.frame.DataFrame'>\n",
      "RangeIndex: 1474 entries, 0 to 1473\n",
      "Data columns (total 13 columns):\n",
      " #   Column         Non-Null Count  Dtype  \n",
      "---  ------         --------------  -----  \n",
      " 0   Placement      1474 non-null   object \n",
      " 1   Placement url  1474 non-null   object \n",
      " 2   Type           1474 non-null   object \n",
      " 3   Ad group       1474 non-null   object \n",
      " 4   Views          1474 non-null   int64  \n",
      " 5   Currency code  1474 non-null   object \n",
      " 6   Avg. CPV       1474 non-null   object \n",
      " 7   Impr.          1474 non-null   object \n",
      " 8   View rate      1474 non-null   object \n",
      " 9   Cost           1474 non-null   float64\n",
      " 10  Conversions    1474 non-null   float64\n",
      " 11  Cost / conv.   1474 non-null   float64\n",
      " 12  Conv. rate     1474 non-null   object \n",
      "dtypes: float64(3), int64(1), object(9)\n",
      "memory usage: 149.8+ KB\n"
     ]
    },
    {
     "data": {
      "text/html": [
       "<div>\n",
       "<style scoped>\n",
       "    .dataframe tbody tr th:only-of-type {\n",
       "        vertical-align: middle;\n",
       "    }\n",
       "\n",
       "    .dataframe tbody tr th {\n",
       "        vertical-align: top;\n",
       "    }\n",
       "\n",
       "    .dataframe thead th {\n",
       "        text-align: right;\n",
       "    }\n",
       "</style>\n",
       "<table border=\"1\" class=\"dataframe\">\n",
       "  <thead>\n",
       "    <tr style=\"text-align: right;\">\n",
       "      <th></th>\n",
       "      <th>Placement</th>\n",
       "      <th>Placement url</th>\n",
       "      <th>Type</th>\n",
       "      <th>Ad group</th>\n",
       "      <th>Views</th>\n",
       "      <th>Currency code</th>\n",
       "      <th>Avg. CPV</th>\n",
       "      <th>Impr.</th>\n",
       "      <th>View rate</th>\n",
       "      <th>Cost</th>\n",
       "      <th>Conversions</th>\n",
       "      <th>Cost / conv.</th>\n",
       "      <th>Conv. rate</th>\n",
       "    </tr>\n",
       "  </thead>\n",
       "  <tbody>\n",
       "    <tr>\n",
       "      <th>0</th>\n",
       "      <td>Blu's Studio</td>\n",
       "      <td>http://youtube.com/channel/UC7m6OSDF6f8We4Kgai...</td>\n",
       "      <td>YouTube channel</td>\n",
       "      <td>AdGroup #1</td>\n",
       "      <td>1</td>\n",
       "      <td>USD</td>\n",
       "      <td>0.01</td>\n",
       "      <td>1</td>\n",
       "      <td>100.00%</td>\n",
       "      <td>0.01</td>\n",
       "      <td>0.0</td>\n",
       "      <td>0.0</td>\n",
       "      <td>0.00%</td>\n",
       "    </tr>\n",
       "    <tr>\n",
       "      <th>1</th>\n",
       "      <td>Triforcefilms</td>\n",
       "      <td>http://youtube.com/channel/UCoDO3V3k1iG-hRGJxL...</td>\n",
       "      <td>YouTube channel</td>\n",
       "      <td>AdGroup #1</td>\n",
       "      <td>1</td>\n",
       "      <td>USD</td>\n",
       "      <td>0.01</td>\n",
       "      <td>1</td>\n",
       "      <td>100.00%</td>\n",
       "      <td>0.01</td>\n",
       "      <td>0.0</td>\n",
       "      <td>0.0</td>\n",
       "      <td>0.00%</td>\n",
       "    </tr>\n",
       "    <tr>\n",
       "      <th>2</th>\n",
       "      <td>GoonCartoons</td>\n",
       "      <td>http://youtube.com/channel/UCKTHJVq9B4aw1enKz1...</td>\n",
       "      <td>YouTube channel</td>\n",
       "      <td>AdGroup #1</td>\n",
       "      <td>1</td>\n",
       "      <td>USD</td>\n",
       "      <td>0.02</td>\n",
       "      <td>1</td>\n",
       "      <td>100.00%</td>\n",
       "      <td>0.02</td>\n",
       "      <td>0.0</td>\n",
       "      <td>0.0</td>\n",
       "      <td>0.00%</td>\n",
       "    </tr>\n",
       "    <tr>\n",
       "      <th>3</th>\n",
       "      <td>Butterfly black subs</td>\n",
       "      <td>http://youtube.com/channel/UCEcLa606RTYxOyuoHO...</td>\n",
       "      <td>YouTube channel</td>\n",
       "      <td>AdGroup #1</td>\n",
       "      <td>1</td>\n",
       "      <td>USD</td>\n",
       "      <td>0.00</td>\n",
       "      <td>1</td>\n",
       "      <td>100.00%</td>\n",
       "      <td>0.00</td>\n",
       "      <td>0.0</td>\n",
       "      <td>0.0</td>\n",
       "      <td>0.00%</td>\n",
       "    </tr>\n",
       "    <tr>\n",
       "      <th>4</th>\n",
       "      <td>Bella e Sofia Macedo</td>\n",
       "      <td>http://youtube.com/channel/UCuZh6cZgT2SMUlSheu...</td>\n",
       "      <td>YouTube channel</td>\n",
       "      <td>AdGroup #1</td>\n",
       "      <td>1</td>\n",
       "      <td>USD</td>\n",
       "      <td>0.01</td>\n",
       "      <td>2</td>\n",
       "      <td>50.00%</td>\n",
       "      <td>0.01</td>\n",
       "      <td>0.0</td>\n",
       "      <td>0.0</td>\n",
       "      <td>0.00%</td>\n",
       "    </tr>\n",
       "  </tbody>\n",
       "</table>\n",
       "</div>"
      ],
      "text/plain": [
       "              Placement                                      Placement url  \\\n",
       "0          Blu's Studio  http://youtube.com/channel/UC7m6OSDF6f8We4Kgai...   \n",
       "1         Triforcefilms  http://youtube.com/channel/UCoDO3V3k1iG-hRGJxL...   \n",
       "2          GoonCartoons  http://youtube.com/channel/UCKTHJVq9B4aw1enKz1...   \n",
       "3  Butterfly black subs  http://youtube.com/channel/UCEcLa606RTYxOyuoHO...   \n",
       "4  Bella e Sofia Macedo  http://youtube.com/channel/UCuZh6cZgT2SMUlSheu...   \n",
       "\n",
       "              Type    Ad group  Views Currency code Avg. CPV Impr. View rate  \\\n",
       "0  YouTube channel  AdGroup #1      1           USD     0.01     1   100.00%   \n",
       "1  YouTube channel  AdGroup #1      1           USD     0.01     1   100.00%   \n",
       "2  YouTube channel  AdGroup #1      1           USD     0.02     1   100.00%   \n",
       "3  YouTube channel  AdGroup #1      1           USD     0.00     1   100.00%   \n",
       "4  YouTube channel  AdGroup #1      1           USD     0.01     2    50.00%   \n",
       "\n",
       "   Cost  Conversions  Cost / conv. Conv. rate  \n",
       "0  0.01          0.0           0.0      0.00%  \n",
       "1  0.01          0.0           0.0      0.00%  \n",
       "2  0.02          0.0           0.0      0.00%  \n",
       "3  0.00          0.0           0.0      0.00%  \n",
       "4  0.01          0.0           0.0      0.00%  "
      ]
     },
     "execution_count": 224,
     "metadata": {},
     "output_type": "execute_result"
    }
   ],
   "source": [
    "import pandas as pd \n",
    "import numpy as np \n",
    "\n",
    "#import display campaign data and check the basics. \n",
    "display=pd.read_csv('imports/display_adwords_placements.csv')\n",
    "display.info()\n",
    "display.head(5)\n",
    "\n",
    "#import video campaign, same deal. \n",
    "video=pd.read_csv('imports/Video_adwords_placements.csv')\n",
    "video.info()\n",
    "video.head(5)"
   ]
  },
  {
   "cell_type": "markdown",
   "metadata": {},
   "source": [
    "## Cleaning Up Video Views Data\n",
    "Taking a look at our data, it seems like we have more than 1,474 placements that only generated one view. It's probably not worth our time to dive too deply on these sources, so let's clean up our data a little bit by getting rid of them. "
   ]
  },
  {
   "cell_type": "code",
   "execution_count": 225,
   "metadata": {},
   "outputs": [
    {
     "name": "stdout",
     "output_type": "stream",
     "text": [
      "<class 'pandas.core.frame.DataFrame'>\n",
      "Int64Index: 424 entries, 7 to 1472\n",
      "Data columns (total 13 columns):\n",
      " #   Column         Non-Null Count  Dtype  \n",
      "---  ------         --------------  -----  \n",
      " 0   Placement      424 non-null    object \n",
      " 1   Placement url  424 non-null    object \n",
      " 2   Type           424 non-null    object \n",
      " 3   Ad group       424 non-null    object \n",
      " 4   Views          424 non-null    int64  \n",
      " 5   Currency code  424 non-null    object \n",
      " 6   Avg. CPV       424 non-null    object \n",
      " 7   Impr.          424 non-null    object \n",
      " 8   View rate      424 non-null    object \n",
      " 9   Cost           424 non-null    float64\n",
      " 10  Conversions    424 non-null    float64\n",
      " 11  Cost / conv.   424 non-null    float64\n",
      " 12  Conv. rate     424 non-null    object \n",
      "dtypes: float64(3), int64(1), object(9)\n",
      "memory usage: 46.4+ KB\n"
     ]
    },
    {
     "data": {
      "text/plain": [
       "Placement        0\n",
       "Placement url    0\n",
       "Type             0\n",
       "Ad group         0\n",
       "Views            0\n",
       "Currency code    0\n",
       "Avg. CPV         0\n",
       "Impr.            0\n",
       "View rate        0\n",
       "Cost             0\n",
       "Conversions      0\n",
       "Cost / conv.     0\n",
       "Conv. rate       0\n",
       "dtype: int64"
      ]
     },
     "execution_count": 225,
     "metadata": {},
     "output_type": "execute_result"
    }
   ],
   "source": [
    "better_than_nothing_video_views=video.query('Views >= 2')\n",
    "better_than_nothing_video_views.head(5)\n",
    "better_than_nothing_video_views.info()\n",
    "better_than_nothing_video_views.isna().sum()"
   ]
  },
  {
   "cell_type": "markdown",
   "metadata": {},
   "source": [
    "### No Duplicates, 424 Values \n",
    "\n",
    "Excellent. We've already cleaned up our video views significantly. Let's keep going, and do something similar for our display ads data. "
   ]
  },
  {
   "cell_type": "code",
   "execution_count": 226,
   "metadata": {},
   "outputs": [
    {
     "name": "stdout",
     "output_type": "stream",
     "text": [
      "<class 'pandas.core.frame.DataFrame'>\n",
      "Int64Index: 137 entries, 3 to 878\n",
      "Data columns (total 12 columns):\n",
      " #   Column         Non-Null Count  Dtype  \n",
      "---  ------         --------------  -----  \n",
      " 0   Placement      137 non-null    object \n",
      " 1   Placement url  137 non-null    object \n",
      " 2   Type           137 non-null    object \n",
      " 3   Clicks         137 non-null    int64  \n",
      " 4   Impr.          137 non-null    object \n",
      " 5   CTR            137 non-null    object \n",
      " 6   Currency code  137 non-null    object \n",
      " 7   Avg. CPC       137 non-null    object \n",
      " 8   Cost           137 non-null    float64\n",
      " 9   Conversions    137 non-null    float64\n",
      " 10  Cost / conv.   137 non-null    float64\n",
      " 11  Conv. rate     137 non-null    object \n",
      "dtypes: float64(3), int64(1), object(8)\n",
      "memory usage: 13.9+ KB\n"
     ]
    },
    {
     "data": {
      "text/plain": [
       "Placement        0\n",
       "Placement url    0\n",
       "Type             0\n",
       "Clicks           0\n",
       "Impr.            0\n",
       "CTR              0\n",
       "Currency code    0\n",
       "Avg. CPC         0\n",
       "Cost             0\n",
       "Conversions      0\n",
       "Cost / conv.     0\n",
       "Conv. rate       0\n",
       "dtype: int64"
      ]
     },
     "execution_count": 226,
     "metadata": {},
     "output_type": "execute_result"
    }
   ],
   "source": [
    "better_than_nothing_display=display.query('Clicks >= 2')\n",
    "better_than_nothing_display.head(5)\n",
    "better_than_nothing_display.info()\n",
    "better_than_nothing_display.isnull().sum()"
   ]
  },
  {
   "cell_type": "markdown",
   "metadata": {},
   "source": [
    "## Identifying Viewability Problems \n",
    "#### Work In Progress \n",
    "\n",
    "In addition to collecting our slice above for further analysis of good opportunities, let's take a moment to collect information that can help us to identify any issues with the viewability of both "
   ]
  },
  {
   "cell_type": "code",
   "execution_count": 227,
   "metadata": {},
   "outputs": [
    {
     "name": "stdout",
     "output_type": "stream",
     "text": [
      "exported viewability issues to csv\n",
      "exported video viewability issues to csv\n",
      "calculating viewability issue count\n",
      "470\n"
     ]
    }
   ],
   "source": [
    "#display.head(5)\n",
    "no_click_display=display.query('Clicks == 0')\n",
    "no_click_display_stat=no_click_display.pivot_table(index='Placement', values=['Clicks', 'Impr.'], aggfunc=\"first\")\n",
    "\n",
    "no_click_display_stat['Impr.']=no_click_display_stat['Impr.'].str.replace(',','')\n",
    "no_click_display_stat['Impr.']=no_click_display_stat['Impr.'].astype(int)\n",
    "no_click_with_impressions=no_click_display_stat.query('`Impr.` >= 1')\n",
    "#no_click_with_impressions.head(20)\n",
    "click_viewability_issues=pd.merge(no_click_with_impressions,display[['Placement', 'Placement url']], on='Placement', how='left')\n",
    "click_viewability_issues.to_csv('exports/display_viewability_issues.csv')\n",
    "print('exported viewability issues to csv')\n",
    "\n",
    "no_view_video=video.query('Views == 0')\n",
    "no_view_video_stat=no_view_video.pivot_table(index='Placement', values=['Views','Impr.'], aggfunc=\"first\")\n",
    "no_view_video_stat['Impr.']=no_view_video_stat['Impr.'].str.replace(',','')\n",
    "no_view_video_stat['Impr.']=no_view_video_stat['Impr.'].astype(int)\n",
    "no_view_with_impressions=no_view_video_stat.query('`Impr.` >= 1')\n",
    "viewability_video_issues=pd.merge(no_view_with_impressions,video[['Placement', 'Placement url']], on='Placement', how='left')\n",
    "viewability_video_issues.to_csv('exports/video_viewability_issues.csv')\n",
    "print('exported video viewability issues to csv')\n",
    "\n",
    "trouble = len(viewability_video_issues) + len(click_viewability_issues)\n",
    "print(\"calculating viewability issue count\")\n",
    "print(trouble)"
   ]
  },
  {
   "cell_type": "markdown",
   "metadata": {},
   "source": [
    "## Found 470 Viewability Issues \n",
    "\n",
    "We found 1 potential video viewability issue, and 469 potential display viewabilty issues. "
   ]
  },
  {
   "cell_type": "markdown",
   "metadata": {},
   "source": [
    "## Looking At High Performing Video Views\n",
    "Now let's see if we can generate a list of our high performing video view placements. \n"
   ]
  },
  {
   "cell_type": "code",
   "execution_count": 228,
   "metadata": {
    "scrolled": true
   },
   "outputs": [
    {
     "name": "stdout",
     "output_type": "stream",
     "text": [
      "exported high value view placements!\n"
     ]
    }
   ],
   "source": [
    "#first, let's take a quick look at the stats for views. \n",
    "#better_than_nothing_video_views['View rate'].describe()\n",
    "#ok, let's see if we can look at how these are distributed. \n",
    "#better_than_nothing_video_views['View rate'].hist(bins=84)\n",
    "multiple_views_stat=better_than_nothing_video_views.pivot_table(index='Placement', values=['Views', 'Impr.'], aggfunc=\"first\")\n",
    "#multiple_views_stat.to_csv(\"multiple_views.csv\")\n",
    "#multiple_views_rate=multiple_views_stat['Views']/multiple_views_stat['Impr.']\n",
    "#multiple_views_stat.head(20)\n",
    "#multiple_views_stat.info()\n",
    "multiple_views_stat['Impr.']=multiple_views_stat['Impr.'].str.replace(',','')\n",
    "multiple_views_stat['Impr.']=multiple_views_stat['Impr.'].astype(int)\n",
    "multiple_views_rate=multiple_views_stat['Views']/multiple_views_stat['Impr.']\n",
    "multiple_views_stat['vtr']=multiple_views_rate\n",
    "#cheese=better_than_nothing_video_views.query('Placement in @multiple_views_stat')\n",
    "#multiple_views_stat['Placement_url']=cheese\n",
    "merged=pd.merge(multiple_views_stat,better_than_nothing_video_views[['Placement','Placement url']], on='Placement', how='left')\n",
    "#merged['vtr'].hist(bins=40)\n",
    "#merged_good_stat=merged.query('.2 < vtr > 1')\n",
    "#merged_good_stat.head(20)\n",
    "merged=merged.sort_values(by='Views', ascending=False)\n",
    "merged.head(20)\n",
    "merged.to_csv('exports/high_value_view_placements.csv')\n",
    "print('exported high value view placements!')\n"
   ]
  },
  {
   "cell_type": "markdown",
   "metadata": {},
   "source": [
    "### We Got What We Came For! \n",
    "We've identified a slice of high value placements. Let's try the same thing with the display data! "
   ]
  },
  {
   "cell_type": "code",
   "execution_count": 229,
   "metadata": {},
   "outputs": [
    {
     "name": "stdout",
     "output_type": "stream",
     "text": [
      "exported high value display placements!\n"
     ]
    }
   ],
   "source": [
    "display_stat=better_than_nothing_display.pivot_table(index='Placement', values=['Clicks', 'Impr.'], aggfunc='first')\n",
    "#display_stat.info()\n",
    "display_stat['Impr.']=display_stat['Impr.'].str.replace(',','')\n",
    "display_stat['Impr.']=display_stat['Impr.'].astype(int)\n",
    "display_stat['ctr']=display_stat['Clicks']/display_stat['Impr.']\n",
    "#display_stat.head(20)\n",
    "display_merged=pd.merge(display_stat,better_than_nothing_display[['Placement','Placement url']], on='Placement')\n",
    "display_merged=display_merged.sort_values(by='Clicks', ascending=False)\n",
    "display_merged.head(20)\n",
    "display_merged.to_csv('exports/high_value_display_placements.csv')\n",
    "print('exported high value display placements!')"
   ]
  },
  {
   "cell_type": "markdown",
   "metadata": {},
   "source": [
    "# Exported High Value and Problematic Placements \n",
    "\n",
    "Now that we've generated our high value video and display placements, we're ready to review and do a little analysis of what we've found. "
   ]
  }
 ],
 "metadata": {
  "kernelspec": {
   "display_name": "Python 3",
   "language": "python",
   "name": "python3"
  },
  "language_info": {
   "codemirror_mode": {
    "name": "ipython",
    "version": 3
   },
   "file_extension": ".py",
   "mimetype": "text/x-python",
   "name": "python",
   "nbconvert_exporter": "python",
   "pygments_lexer": "ipython3",
   "version": "3.7.6"
  }
 },
 "nbformat": 4,
 "nbformat_minor": 4
}
